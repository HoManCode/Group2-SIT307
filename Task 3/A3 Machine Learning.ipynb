{
 "cells": [
  {
   "cell_type": "markdown",
   "metadata": {},
   "source": [
    "# SIT307 - Machine Learning Challenge (Assignment 3)\n",
    "\n",
    "Our chosen dataset is [Life Expectancy (WHO)](https://www.kaggle.com/datasets/kumarajarshi/life-expectancy-who).\n",
    "\n",
    "Prepared by\n",
    "\n",
    "| Student           | Student ID |\n",
    "|-------------------|------------|\n",
    "| HOOMAN SHYKHIPOUR | 220060109  |\n",
    "| SARAH GOSLING     | 220094149  |\n",
    "| DEVIN JAYASINGHE  | 220228075  |\n",
    "| RYAN WAITES       | 215127684  |\n",
    "| ANTHONY GEORGE    | 220180567  |\n",
    "| MATT KINNIA       | 219311697  |"
   ]
  },
  {
   "cell_type": "code",
   "execution_count": 1,
   "metadata": {
    "scrolled": false
   },
   "outputs": [],
   "source": [
    "'''\n",
    "Import all necessary libraries\n",
    "'''\n",
    "\n",
    "import warnings\n",
    "import numpy as np\n",
    "import pandas as pd\n",
    "import seaborn as sns\n",
    "import matplotlib.pyplot as plt\n",
    "import matplotlib.ticker as mtick\n",
    "\n",
    "# Import the required packages for our regression models.\n",
    "from statistics import mean\n",
    "from sklearn.neural_network import MLPRegressor\n",
    "from sklearn.datasets import make_regression\n",
    "from sklearn.linear_model import LinearRegression, Lasso, LassoCV\n",
    "from sklearn.model_selection import train_test_split\n",
    "from sklearn.metrics import r2_score, mean_absolute_error, mean_squared_error\n",
    "from sklearn.preprocessing import StandardScaler, LabelEncoder\n",
    "from sklearn.linear_model import lars_path"
   ]
  },
  {
   "cell_type": "code",
   "execution_count": 2,
   "metadata": {},
   "outputs": [],
   "source": [
    "# Ignore inline warnings thrown by packages\n",
    "warnings.filterwarnings(\"ignore\")"
   ]
  },
  {
   "cell_type": "code",
   "execution_count": 3,
   "metadata": {
    "scrolled": false
   },
   "outputs": [],
   "source": [
    "'''\n",
    "Get our cleaned dataset\n",
    "'''\n",
    "\n",
    "life_df = pd.read_csv('Cleaned_Life_Expectancy_Data.csv', delimiter=',')"
   ]
  },
  {
   "cell_type": "markdown",
   "metadata": {},
   "source": [
    "# Section 1: Introduction"
   ]
  },
  {
   "cell_type": "markdown",
   "metadata": {},
   "source": [
    "### Aims\n",
    "#### Building upon our previous analysis of the Life Expectancy dataset in Assignment 2, we identified key observable relationships between features, particularly regarding different features and their effects on Life Expectancy.\n",
    "\n",
    "#### In this notebook we aim to confirm the best set of features and accurately predict life expectancy based upon these. To do so, we utilised three separate machine learning regression models, in the pursuit of creating the most accurate model for our problem, as follows...\n",
    "-\t#### Linear Regression\n",
    "-\t#### Artificial Neural Network Multi-Layer Perceptron Regression\n",
    "-\t#### LASSO Regression\n",
    "\n",
    "### Hypothesis\n",
    "\n",
    "#### We hypothesise that our best model will predict life expectancy within 2% accuracy, based on a testing and training ratio of 80 and 20 respectively.\n"
   ]
  },
  {
   "cell_type": "markdown",
   "metadata": {},
   "source": [
    "# Section 2: Machine Learning"
   ]
  },
  {
   "cell_type": "markdown",
   "metadata": {},
   "source": [
    "## Section 2.1: Regression"
   ]
  },
  {
   "cell_type": "code",
   "execution_count": 4,
   "metadata": {},
   "outputs": [],
   "source": [
    "'''\n",
    "Let's organise our features to use in our regression model\n",
    "'''\n",
    "\n",
    "# Convert country, a categorical text field, to a numerical class should we wish to use it in any models.\n",
    "label_encoder = LabelEncoder()\n",
    "life_df[\"COUNTRY_CLASS\"] = label_encoder.fit_transform(life_df[\"COUNTRY\"])\n",
    "\n",
    "# Pull the required columns from the source dataset.\n",
    "reg_life_df = life_df[[\"STATUS\", \"LIFE_EXPECTANCY\", \"ALCOHOL\", \"ADULT_MORTALITY\",\"MEASLES\",\"POLIO\",\"DIPHTHERIA\", \"BMI\", \"INFANT_DEATHS\",\"THINNESS_5-9_YEARS\",\"THINNESS_10-19_YEARS\", \"SCHOOLING\",\"INCOME_COMPOSITION_OF_RESOURCES\"]]\n",
    "reg_life_df = reg_life_df.dropna()\n",
    "\n",
    "# Define our x (independent) and y (dependent) variables for our regression models.\n",
    "x = reg_life_df[[\"STATUS\", \"ALCOHOL\", \"ADULT_MORTALITY\", \"BMI\", \"INFANT_DEATHS\",\"MEASLES\",\"POLIO\",\"DIPHTHERIA\",\"THINNESS_5-9_YEARS\",\"THINNESS_10-19_YEARS\", \"SCHOOLING\",\"INCOME_COMPOSITION_OF_RESOURCES\"]]\n",
    "y = reg_life_df[\"LIFE_EXPECTANCY\"]"
   ]
  },
  {
   "cell_type": "code",
   "execution_count": 5,
   "metadata": {},
   "outputs": [],
   "source": [
    "'''\n",
    "Split data into testing and training data\n",
    "'''\n",
    "\n",
    "# Split our dataset into training and testing samples. We are using 80% for training and 20% for testing.\n",
    "# NOTE: Using a the \"random_state\" parameter ensures we get repeatable results for each execution.\n",
    "x_train, x_test, y_train, y_test = train_test_split(x, y, test_size=0.2, random_state=42)\n",
    "\n",
    "# Scale our train and test features using standardization.\n",
    "std_scaler = StandardScaler()\n",
    "std_scaler.fit(x_train.values)\n",
    "\n",
    "x_train_scaled = std_scaler.transform(x_train.values)\n",
    "x_test_scaled  = std_scaler.transform(x_test.values)"
   ]
  },
  {
   "cell_type": "markdown",
   "metadata": {},
   "source": [
    "### Linear Regression\n",
    "\n",
    "Using an ordinary least squares Linear Regression model we can predict `LIFE_EXPECTANCY` using a one or more explanatory features."
   ]
  },
  {
   "cell_type": "code",
   "execution_count": 6,
   "metadata": {},
   "outputs": [
    {
     "data": {
      "text/plain": [
       "LinearRegression()"
      ]
     },
     "execution_count": 6,
     "metadata": {},
     "output_type": "execute_result"
    }
   ],
   "source": [
    "'''\n",
    "Build and train Linear Regression model\n",
    "'''\n",
    "\n",
    "# Create and train the ordinary least squares Linear Regression model based on our training data.\n",
    "linear_regression = LinearRegression()\n",
    "linear_regression.fit(x_train_scaled, y_train)"
   ]
  },
  {
   "cell_type": "code",
   "execution_count": 7,
   "metadata": {},
   "outputs": [],
   "source": [
    "'''\n",
    "Test model\n",
    "'''\n",
    "\n",
    "# Run a prediction using our testing data.\n",
    "y_pred = linear_regression.predict(x_test_scaled)"
   ]
  },
  {
   "cell_type": "markdown",
   "metadata": {},
   "source": [
    "#### Performance"
   ]
  },
  {
   "cell_type": "code",
   "execution_count": 8,
   "metadata": {},
   "outputs": [
    {
     "name": "stdout",
     "output_type": "stream",
     "text": [
      "Coefficient of determination: 0.9238680302251875\n",
      "Mean Absolute Error: 1.8176607104482667\n",
      "Mean Squared Error: 6.53086525927772\n",
      "Root Mean Squared Error: 2.5555557632886274\n"
     ]
    }
   ],
   "source": [
    "'''\n",
    "Evaluate Performance\n",
    "'''\n",
    "\n",
    "# Print the model's performance indicators.\n",
    "print(f\"Coefficient of determination: {r2_score(y_test, y_pred)}\")\n",
    "print(f\"Mean Absolute Error: {mean_absolute_error(y_test, y_pred)}\")  \n",
    "print(f\"Mean Squared Error: {mean_squared_error(y_test, y_pred)}\")  \n",
    "print(f\"Root Mean Squared Error: {np.sqrt(mean_squared_error(y_test, y_pred))}\")"
   ]
  },
  {
   "cell_type": "code",
   "execution_count": 9,
   "metadata": {},
   "outputs": [
    {
     "data": {
      "text/html": [
       "<div>\n",
       "<style scoped>\n",
       "    .dataframe tbody tr th:only-of-type {\n",
       "        vertical-align: middle;\n",
       "    }\n",
       "\n",
       "    .dataframe tbody tr th {\n",
       "        vertical-align: top;\n",
       "    }\n",
       "\n",
       "    .dataframe thead th {\n",
       "        text-align: right;\n",
       "    }\n",
       "</style>\n",
       "<table border=\"1\" class=\"dataframe\">\n",
       "  <thead>\n",
       "    <tr style=\"text-align: right;\">\n",
       "      <th></th>\n",
       "      <th>Actual</th>\n",
       "      <th>Predicted</th>\n",
       "    </tr>\n",
       "  </thead>\n",
       "  <tbody>\n",
       "    <tr>\n",
       "      <th>783</th>\n",
       "      <td>70.2</td>\n",
       "      <td>68.608839</td>\n",
       "    </tr>\n",
       "    <tr>\n",
       "      <th>1615</th>\n",
       "      <td>69.6</td>\n",
       "      <td>68.791612</td>\n",
       "    </tr>\n",
       "    <tr>\n",
       "      <th>410</th>\n",
       "      <td>53.3</td>\n",
       "      <td>54.768536</td>\n",
       "    </tr>\n",
       "    <tr>\n",
       "      <th>1852</th>\n",
       "      <td>79.1</td>\n",
       "      <td>79.510794</td>\n",
       "    </tr>\n",
       "    <tr>\n",
       "      <th>523</th>\n",
       "      <td>45.7</td>\n",
       "      <td>44.771927</td>\n",
       "    </tr>\n",
       "    <tr>\n",
       "      <th>881</th>\n",
       "      <td>64.2</td>\n",
       "      <td>60.560052</td>\n",
       "    </tr>\n",
       "    <tr>\n",
       "      <th>883</th>\n",
       "      <td>63.3</td>\n",
       "      <td>59.547605</td>\n",
       "    </tr>\n",
       "    <tr>\n",
       "      <th>1444</th>\n",
       "      <td>73.6</td>\n",
       "      <td>74.201069</td>\n",
       "    </tr>\n",
       "    <tr>\n",
       "      <th>511</th>\n",
       "      <td>79.1</td>\n",
       "      <td>78.469725</td>\n",
       "    </tr>\n",
       "    <tr>\n",
       "      <th>1554</th>\n",
       "      <td>64.7</td>\n",
       "      <td>62.346559</td>\n",
       "    </tr>\n",
       "  </tbody>\n",
       "</table>\n",
       "</div>"
      ],
      "text/plain": [
       "      Actual  Predicted\n",
       "783     70.2  68.608839\n",
       "1615    69.6  68.791612\n",
       "410     53.3  54.768536\n",
       "1852    79.1  79.510794\n",
       "523     45.7  44.771927\n",
       "881     64.2  60.560052\n",
       "883     63.3  59.547605\n",
       "1444    73.6  74.201069\n",
       "511     79.1  78.469725\n",
       "1554    64.7  62.346559"
      ]
     },
     "execution_count": 9,
     "metadata": {},
     "output_type": "execute_result"
    }
   ],
   "source": [
    "'''\n",
    "Prediction comparison\n",
    "'''\n",
    "\n",
    "# Print actual vs predicted values. \n",
    "pd.DataFrame({\"Actual\": y_test, \"Predicted\": y_pred}).head(10)"
   ]
  },
  {
   "cell_type": "code",
   "execution_count": 10,
   "metadata": {},
   "outputs": [
    {
     "data": {
      "text/plain": [
       "[Text(0.5, 1.0, 'Actual vs. Predicted Life Expectancy'),\n",
       " Text(0.5, 0, 'Actual Value'),\n",
       " Text(0, 0.5, 'Predicted Value')]"
      ]
     },
     "execution_count": 10,
     "metadata": {},
     "output_type": "execute_result"
    },
    {
     "data": {
      "image/png": "[encoded data removed]",
      "text/plain": [
       "<Figure size 432x288 with 1 Axes>"
      ]
     },
     "metadata": {
      "needs_background": "light"
     },
     "output_type": "display_data"
    }
   ],
   "source": [
    "'''\n",
    "Plot prediction comparison\n",
    "'''\n",
    "\n",
    "# Plot actual vs predicted values.\n",
    "plot = sns.scatterplot(x=y_test, y=y_pred)\n",
    "plot.set(title=\"Actual vs. Predicted Life Expectancy\", xlabel=\"Actual Value\", ylabel=\"Predicted Value\")"
   ]
  },
  {
   "cell_type": "markdown",
   "metadata": {},
   "source": [
    "#### Prediction\n",
    "\n",
    "Predict life expectancy using previously unseen data."
   ]
  },
  {
   "cell_type": "code",
   "execution_count": 11,
   "metadata": {},
   "outputs": [
    {
     "name": "stdout",
     "output_type": "stream",
     "text": [
      "Given provided features, the predicted life expectancy is: 55.88050060426035\n"
     ]
    }
   ],
   "source": [
    "'''\n",
    "Perform prediction with new data\n",
    "'''\n",
    "\n",
    "# Provide a set of previously unseen features.\n",
    "# STATUS, ALCOHOL, ADULT_MORTALITY, BMI, INFANT_DEATHS, MEASLES, POLIO, DIPHTHERIA, THINNESS_5-9_YEARS, THINNESS_10-19_YEARS, SCHOOLING, INCOME_COMPOSITION_OF_RESOURCES\n",
    "new_features = [[0, 5, 300, 19, 82, 1495, 68, 40, 18, 17, 14, 0.5]]\n",
    "\n",
    "# Scale these features using standardization \n",
    "new_features_scaled = std_scaler.transform(new_features)\n",
    "\n",
    "# Predict the life expectancy given the new features\n",
    "new_pred = linear_regression.predict(new_features_scaled)\n",
    "print(f\"Given provided features, the predicted life expectancy is: {new_pred[0]}\")"
   ]
  },
  {
   "cell_type": "markdown",
   "metadata": {},
   "source": [
    "### Lasso Regression "
   ]
  },
  {
   "cell_type": "markdown",
   "metadata": {},
   "source": [
    "####  finding best ALPHA value for L1 regularization,implementing lassoCV"
   ]
  },
  {
   "cell_type": "code",
   "execution_count": 12,
   "metadata": {},
   "outputs": [
    {
     "data": {
      "text/plain": [
       "0.012173827277396614"
      ]
     },
     "execution_count": 12,
     "metadata": {},
     "output_type": "execute_result"
    }
   ],
   "source": [
    "'''\n",
    "Determine best alpha, build and train LASSO regression model\n",
    "'''\n",
    "\n",
    "# Run the cross validation, find the best alpha, refit the model on all the data with that alpha\n",
    "alphavec = 10**np.linspace(-3,3,200)   # alpha varies from 0.001 to 1000\n",
    "lasso_model = LassoCV(alphas = alphavec, cv=5)\n",
    "lasso_model.fit(x_train_scaled, y_train)\n",
    "# This is the best alpha value found\n",
    "lasso_model.alpha_ \n"
   ]
  },
  {
   "cell_type": "code",
   "execution_count": 13,
   "metadata": {},
   "outputs": [
    {
     "data": {
      "text/plain": [
       "[('STATUS', 0.12540144182981472),\n",
       " ('ALCOHOL', -0.01712369191563207),\n",
       " ('ADULT_MORTALITY', -4.479060598744766),\n",
       " ('BMI', 0.18181222245651846),\n",
       " ('INFANT_DEATHS', 0.15874142618205433),\n",
       " ('MEASLES', -0.2850918092368945),\n",
       " ('POLIO', -0.0),\n",
       " ('DIPHTHERIA', 1.0785488519160236),\n",
       " ('THINNESS_5-9_YEARS', -0.036196874877915654),\n",
       " ('THINNESS_10-19_YEARS', -0.11107439652977479),\n",
       " ('SCHOOLING', 0.0),\n",
       " ('INCOME_COMPOSITION_OF_RESOURCES', 3.9669492280262597)]"
      ]
     },
     "execution_count": 13,
     "metadata": {},
     "output_type": "execute_result"
    }
   ],
   "source": [
    "'''\n",
    "View coeffecients\n",
    "'''\n",
    "\n",
    "# showing all coefficients with optimal alpha\n",
    "list(zip(x_train.columns, lasso_model.coef_))"
   ]
  },
  {
   "cell_type": "code",
   "execution_count": 14,
   "metadata": {},
   "outputs": [],
   "source": [
    "'''\n",
    "Test model\n",
    "'''\n",
    "\n",
    "# Run a prediction using our testing data.\n",
    "y_pred_LASSO = lasso_model.predict(x_test_scaled)"
   ]
  },
  {
   "cell_type": "markdown",
   "metadata": {},
   "source": [
    "#### Performance"
   ]
  },
  {
   "cell_type": "code",
   "execution_count": 15,
   "metadata": {},
   "outputs": [
    {
     "name": "stdout",
     "output_type": "stream",
     "text": [
      "Coefficient of determination: 0.9240796076950467\n",
      "Mean Absolute Error: 1.816059783150613\n",
      "Mean Squared Error: 6.512715407754936\n",
      "Root Mean Squared Error: 2.552002235060725\n"
     ]
    }
   ],
   "source": [
    "'''\n",
    "Evaluate Performance\n",
    "'''\n",
    "\n",
    "# Print the model's performance indicators.\n",
    "print(f\"Coefficient of determination: {r2_score(y_test, y_pred_LASSO)}\")\n",
    "print(f\"Mean Absolute Error: {mean_absolute_error(y_test, y_pred_LASSO)}\")  \n",
    "print(f\"Mean Squared Error: {mean_squared_error(y_test, y_pred_LASSO)}\")  \n",
    "print(f\"Root Mean Squared Error: {np.sqrt(mean_squared_error(y_test, y_pred_LASSO))}\")"
   ]
  },
  {
   "cell_type": "code",
   "execution_count": 16,
   "metadata": {},
   "outputs": [
    {
     "data": {
      "text/html": [
       "<div>\n",
       "<style scoped>\n",
       "    .dataframe tbody tr th:only-of-type {\n",
       "        vertical-align: middle;\n",
       "    }\n",
       "\n",
       "    .dataframe tbody tr th {\n",
       "        vertical-align: top;\n",
       "    }\n",
       "\n",
       "    .dataframe thead th {\n",
       "        text-align: right;\n",
       "    }\n",
       "</style>\n",
       "<table border=\"1\" class=\"dataframe\">\n",
       "  <thead>\n",
       "    <tr style=\"text-align: right;\">\n",
       "      <th></th>\n",
       "      <th>Actual</th>\n",
       "      <th>Predicted</th>\n",
       "    </tr>\n",
       "  </thead>\n",
       "  <tbody>\n",
       "    <tr>\n",
       "      <th>783</th>\n",
       "      <td>70.2</td>\n",
       "      <td>68.455940</td>\n",
       "    </tr>\n",
       "    <tr>\n",
       "      <th>1615</th>\n",
       "      <td>69.6</td>\n",
       "      <td>68.862125</td>\n",
       "    </tr>\n",
       "    <tr>\n",
       "      <th>410</th>\n",
       "      <td>53.3</td>\n",
       "      <td>55.087929</td>\n",
       "    </tr>\n",
       "    <tr>\n",
       "      <th>1852</th>\n",
       "      <td>79.1</td>\n",
       "      <td>79.374050</td>\n",
       "    </tr>\n",
       "    <tr>\n",
       "      <th>523</th>\n",
       "      <td>45.7</td>\n",
       "      <td>44.632764</td>\n",
       "    </tr>\n",
       "    <tr>\n",
       "      <th>881</th>\n",
       "      <td>64.2</td>\n",
       "      <td>60.448725</td>\n",
       "    </tr>\n",
       "    <tr>\n",
       "      <th>883</th>\n",
       "      <td>63.3</td>\n",
       "      <td>59.496388</td>\n",
       "    </tr>\n",
       "    <tr>\n",
       "      <th>1444</th>\n",
       "      <td>73.6</td>\n",
       "      <td>74.190169</td>\n",
       "    </tr>\n",
       "    <tr>\n",
       "      <th>511</th>\n",
       "      <td>79.1</td>\n",
       "      <td>78.431741</td>\n",
       "    </tr>\n",
       "    <tr>\n",
       "      <th>1554</th>\n",
       "      <td>64.7</td>\n",
       "      <td>62.300865</td>\n",
       "    </tr>\n",
       "  </tbody>\n",
       "</table>\n",
       "</div>"
      ],
      "text/plain": [
       "      Actual  Predicted\n",
       "783     70.2  68.455940\n",
       "1615    69.6  68.862125\n",
       "410     53.3  55.087929\n",
       "1852    79.1  79.374050\n",
       "523     45.7  44.632764\n",
       "881     64.2  60.448725\n",
       "883     63.3  59.496388\n",
       "1444    73.6  74.190169\n",
       "511     79.1  78.431741\n",
       "1554    64.7  62.300865"
      ]
     },
     "execution_count": 16,
     "metadata": {},
     "output_type": "execute_result"
    }
   ],
   "source": [
    "'''\n",
    "Prediction comparison\n",
    "'''\n",
    "\n",
    "# Print actual vs predicted values. \n",
    "pd.DataFrame({\"Actual\": y_test, \"Predicted\": y_pred_LASSO}).head(10)"
   ]
  },
  {
   "cell_type": "code",
   "execution_count": 17,
   "metadata": {},
   "outputs": [
    {
     "data": {
      "text/plain": [
       "[Text(0.5, 1.0, 'Actual vs. Predicted Life Expectancy'),\n",
       " Text(0.5, 0, 'Actual Value'),\n",
       " Text(0, 0.5, 'Predicted Value')]"
      ]
     },
     "execution_count": 17,
     "metadata": {},
     "output_type": "execute_result"
    },
    {
     "data": {
      "image/png": "[encoded data removed]",
      "text/plain": [
       "<Figure size 432x288 with 1 Axes>"
      ]
     },
     "metadata": {
      "needs_background": "light"
     },
     "output_type": "display_data"
    }
   ],
   "source": [
    "'''\n",
    "Plot prediction comparison\n",
    "'''\n",
    "\n",
    "# Plot actual vs predicted values.\n",
    "plot = sns.scatterplot(x=y_test, y=y_pred_LASSO)\n",
    "plot.set(title=\"Actual vs. Predicted Life Expectancy\", xlabel=\"Actual Value\", ylabel=\"Predicted Value\")"
   ]
  },
  {
   "cell_type": "markdown",
   "metadata": {},
   "source": [
    "#### Prediction"
   ]
  },
  {
   "cell_type": "code",
   "execution_count": 18,
   "metadata": {},
   "outputs": [
    {
     "name": "stdout",
     "output_type": "stream",
     "text": [
      "Given provided features, the predicted life expectancy is: 56.5586012759333\n"
     ]
    }
   ],
   "source": [
    "'''\n",
    "Test model with new data\n",
    "'''\n",
    "\n",
    "# Provide a set of previously unseen features.\n",
    "# STATUS, ALCOHOL, ADULT_MORTALITY, BMI, INFANT_DEATHS, MEASLES, POLIO, DIPHTHERIA, THINNESS_5-9_YEARS, THINNESS_10-19_YEARS, SCHOOLING, INCOME_COMPOSITION_OF_RESOURCES\n",
    "new_features = [[0, 5, 300, 19, 82, 1495, 68, 40, 18, 17, 14, 0.5]]\n",
    "\n",
    "# Scale these features using standardization \n",
    "new_features_scaled = std_scaler.transform(new_features)\n",
    "\n",
    "# Predict the life expectancy given the new features\n",
    "new_pred = lasso_model.predict(new_features_scaled)\n",
    "print(f\"Given provided features, the predicted life expectancy is: {new_pred[0]}\")"
   ]
  },
  {
   "cell_type": "code",
   "execution_count": 19,
   "metadata": {},
   "outputs": [],
   "source": [
    "'''\n",
    "Determine LARS path\n",
    "'''\n",
    "\n",
    "# Regularization path computation using the LARS\n",
    "alphas, _, coefs = lars_path(x_train_scaled, y_train.values, method='lasso')"
   ]
  },
  {
   "cell_type": "code",
   "execution_count": 20,
   "metadata": {},
   "outputs": [
    {
     "data": {
      "image/png": "[encoded data removed]",
      "text/plain": [
       "<Figure size 720x720 with 1 Axes>"
      ]
     },
     "metadata": {
      "needs_background": "light"
     },
     "output_type": "display_data"
    }
   ],
   "source": [
    "'''\n",
    "Plot LARS path\n",
    "'''\n",
    "\n",
    "# plotting the LARS path\n",
    "xx = np.sum(np.abs(coefs.T), axis=1)\n",
    "xx /= xx[-1]\n",
    "\n",
    "plt.figure(figsize=(10,10))\n",
    "plt.plot(xx, coefs.T)\n",
    "ymin, ymax = plt.ylim()\n",
    "plt.vlines(xx, ymin, ymax, linestyle='dashed')\n",
    "plt.xlabel('|coef| / max|coef|')\n",
    "plt.ylabel('Coefficients')\n",
    "plt.title('LASSO Path')\n",
    "plt.axis('tight')\n",
    "plt.legend(x_train.columns)\n",
    "plt.show()"
   ]
  },
  {
   "cell_type": "markdown",
   "metadata": {},
   "source": [
    "### Artificial Neural Network"
   ]
  },
  {
   "cell_type": "code",
   "execution_count": 21,
   "metadata": {},
   "outputs": [],
   "source": [
    "'''\n",
    "Split data into testing and training data, build and test model\n",
    "'''\n",
    "\n",
    "# split dataset into train and test data\n",
    "x_train, x_test, y_train, y_test = train_test_split(x, y, test_size=0.2, random_state=42)\n",
    "\n",
    "# standardise the features individually before applying ML\n",
    "sc=StandardScaler()\n",
    "\n",
    "# fit standardised features\n",
    "scaler = sc.fit(x_train)\n",
    "\n",
    "# transform train and test data\n",
    "x_train_scaled = scaler.transform(x_train)\n",
    "x_test_scaled = scaler.transform(x_test)\n",
    "\n",
    "#mlp = MLPRegressor(random_state=1, max_iter=10000).fit(x_train, y_train)\n",
    "mlp = MLPRegressor(hidden_layer_sizes=(150),\n",
    "                   max_iter = 10000, \n",
    "                   activation = 'relu',\n",
    "                   solver = 'adam').fit(x_train_scaled, y_train)\n",
    "\n",
    "# get prediction from test data \n",
    "predict_test = mlp.predict(x_test_scaled)"
   ]
  },
  {
   "cell_type": "code",
   "execution_count": 22,
   "metadata": {},
   "outputs": [
    {
     "name": "stdout",
     "output_type": "stream",
     "text": [
      "Coefficient of determination: 0.957726822337482\n",
      "Mean Absolute Error: 1.2661025766797236\n",
      "Mean Squared Error: 3.626340264307098\n",
      "Root Mean Squared Error: 1.9042952145891399\n"
     ]
    }
   ],
   "source": [
    "'''\n",
    "Evaluate performance\n",
    "'''\n",
    "\n",
    "# print coefficients and errors\n",
    "print(f\"Coefficient of determination: {r2_score(y_test, predict_test)}\")\n",
    "print('Mean Absolute Error:', mean_absolute_error(y_test, predict_test))  \n",
    "print('Mean Squared Error:', mean_squared_error(y_test, predict_test))  \n",
    "print('Root Mean Squared Error:', np.sqrt(mean_squared_error(y_test, predict_test)))"
   ]
  },
  {
   "cell_type": "code",
   "execution_count": 23,
   "metadata": {},
   "outputs": [
    {
     "data": {
      "text/plain": [
       "[Text(0.5, 1.0, 'Actual vs. Predicted Life Expectancy'),\n",
       " Text(0.5, 0, 'Actual Value'),\n",
       " Text(0, 0.5, 'Predicted Value')]"
      ]
     },
     "execution_count": 23,
     "metadata": {},
     "output_type": "execute_result"
    },
    {
     "data": {
      "image/png": "[encoded data removed]",
      "text/plain": [
       "<Figure size 432x288 with 1 Axes>"
      ]
     },
     "metadata": {
      "needs_background": "light"
     },
     "output_type": "display_data"
    }
   ],
   "source": [
    "'''\n",
    "Plot prediction comparison\n",
    "'''\n",
    "\n",
    "# Plot actual vs predicted values.\n",
    "plot = sns.scatterplot(x=y_test, y=predict_test)\n",
    "plot.set(title=\"Actual vs. Predicted Life Expectancy\", xlabel=\"Actual Value\", ylabel=\"Predicted Value\")"
   ]
  },
  {
   "cell_type": "code",
   "execution_count": 24,
   "metadata": {},
   "outputs": [
    {
     "data": {
      "text/html": [
       "<div>\n",
       "<style scoped>\n",
       "    .dataframe tbody tr th:only-of-type {\n",
       "        vertical-align: middle;\n",
       "    }\n",
       "\n",
       "    .dataframe tbody tr th {\n",
       "        vertical-align: top;\n",
       "    }\n",
       "\n",
       "    .dataframe thead th {\n",
       "        text-align: right;\n",
       "    }\n",
       "</style>\n",
       "<table border=\"1\" class=\"dataframe\">\n",
       "  <thead>\n",
       "    <tr style=\"text-align: right;\">\n",
       "      <th></th>\n",
       "      <th>Actual</th>\n",
       "      <th>Predicted</th>\n",
       "    </tr>\n",
       "  </thead>\n",
       "  <tbody>\n",
       "    <tr>\n",
       "      <th>783</th>\n",
       "      <td>70.2</td>\n",
       "      <td>68.608839</td>\n",
       "    </tr>\n",
       "    <tr>\n",
       "      <th>1615</th>\n",
       "      <td>69.6</td>\n",
       "      <td>68.791612</td>\n",
       "    </tr>\n",
       "    <tr>\n",
       "      <th>410</th>\n",
       "      <td>53.3</td>\n",
       "      <td>54.768536</td>\n",
       "    </tr>\n",
       "    <tr>\n",
       "      <th>1852</th>\n",
       "      <td>79.1</td>\n",
       "      <td>79.510794</td>\n",
       "    </tr>\n",
       "    <tr>\n",
       "      <th>523</th>\n",
       "      <td>45.7</td>\n",
       "      <td>44.771927</td>\n",
       "    </tr>\n",
       "    <tr>\n",
       "      <th>881</th>\n",
       "      <td>64.2</td>\n",
       "      <td>60.560052</td>\n",
       "    </tr>\n",
       "    <tr>\n",
       "      <th>883</th>\n",
       "      <td>63.3</td>\n",
       "      <td>59.547605</td>\n",
       "    </tr>\n",
       "    <tr>\n",
       "      <th>1444</th>\n",
       "      <td>73.6</td>\n",
       "      <td>74.201069</td>\n",
       "    </tr>\n",
       "    <tr>\n",
       "      <th>511</th>\n",
       "      <td>79.1</td>\n",
       "      <td>78.469725</td>\n",
       "    </tr>\n",
       "    <tr>\n",
       "      <th>1554</th>\n",
       "      <td>64.7</td>\n",
       "      <td>62.346559</td>\n",
       "    </tr>\n",
       "  </tbody>\n",
       "</table>\n",
       "</div>"
      ],
      "text/plain": [
       "      Actual  Predicted\n",
       "783     70.2  68.608839\n",
       "1615    69.6  68.791612\n",
       "410     53.3  54.768536\n",
       "1852    79.1  79.510794\n",
       "523     45.7  44.771927\n",
       "881     64.2  60.560052\n",
       "883     63.3  59.547605\n",
       "1444    73.6  74.201069\n",
       "511     79.1  78.469725\n",
       "1554    64.7  62.346559"
      ]
     },
     "execution_count": 24,
     "metadata": {},
     "output_type": "execute_result"
    }
   ],
   "source": [
    "'''\n",
    "Prediction comparison\n",
    "'''\n",
    "\n",
    "# compare actual data with predicted\n",
    "df_temp = pd.DataFrame({'Actual': y_test, 'Predicted': y_pred})\n",
    "df_temp.head(10)"
   ]
  },
  {
   "cell_type": "code",
   "execution_count": 25,
   "metadata": {},
   "outputs": [
    {
     "data": {
      "image/png": "[encoded data removed]",
      "text/plain": [
       "<Figure size 720x432 with 1 Axes>"
      ]
     },
     "metadata": {
      "needs_background": "light"
     },
     "output_type": "display_data"
    }
   ],
   "source": [
    "'''\n",
    "Alternate prediction comparison visualisation\n",
    "'''\n",
    "\n",
    "# visualise actual vs predicted\n",
    "df_temp = df_temp.head(30)\n",
    "df_temp.plot(kind='bar',figsize=(10,6))\n",
    "plt.grid(which='major', linestyle='-', linewidth='0.5', color='green')\n",
    "plt.grid(which='minor', linestyle=':', linewidth='0.5', color='black')\n",
    "plt.show()"
   ]
  },
  {
   "cell_type": "code",
   "execution_count": 26,
   "metadata": {},
   "outputs": [
    {
     "data": {
      "image/png": "[encoded data removed]",
      "text/plain": [
       "<Figure size 432x288 with 1 Axes>"
      ]
     },
     "metadata": {
      "needs_background": "light"
     },
     "output_type": "display_data"
    }
   ],
   "source": [
    "'''\n",
    "Alternate prediction comparison visualisation\n",
    "'''\n",
    "\n",
    "# plot the loss curve of the ML algorithm\n",
    "plt.plot(mlp.loss_curve_)\n",
    "plt.title(\"Loss Curve\", fontsize=14)\n",
    "plt.xlabel('Iterations')\n",
    "plt.ylabel('Cost')\n",
    "plt.show()"
   ]
  },
  {
   "cell_type": "markdown",
   "metadata": {},
   "source": [
    "# Predicting Life Expectancy \n",
    "### Given values for Alcohol, BMI and Adult Mortality, we can observe the ANN's ability to predict Life Expectancy"
   ]
  },
  {
   "cell_type": "code",
   "execution_count": 27,
   "metadata": {},
   "outputs": [
    {
     "name": "stdout",
     "output_type": "stream",
     "text": [
      "      STATUS  LIFE_EXPECTANCY  ALCOHOL  ADULT_MORTALITY  MEASLES  POLIO  \\\n",
      "1078       0             57.3     0.18              297      264   60.0   \n",
      "\n",
      "      DIPHTHERIA   BMI  INFANT_DEATHS  THINNESS_5-9_YEARS  \\\n",
      "1078        57.0  23.0             29                 8.4   \n",
      "\n",
      "      THINNESS_10-19_YEARS  SCHOOLING  INCOME_COMPOSITION_OF_RESOURCES  \n",
      "1078                   8.4        8.1                            0.376  \n"
     ]
    }
   ],
   "source": [
    "'''\n",
    "Print an entry to use values for prediction\n",
    "'''\n",
    "\n",
    "index = 1078\n",
    "#index = 2907\n",
    "print(reg_life_df.loc[[index]])"
   ]
  },
  {
   "cell_type": "code",
   "execution_count": 28,
   "metadata": {},
   "outputs": [],
   "source": [
    "'''\n",
    "initialize prediction data\n",
    "'''\n",
    "\n",
    "# here we're getting a life expectancy prediction for the given values ## Life Exp\n",
    "test1 = [[0, 0.18, 297, 23.1, 29, 264, 60.0, 57.0, 8.4, 8.4, 8.1, 0.376]] # 57.3\n",
    "test2 = [[0, 4.36, 723, 27.1, 27, 31, 67.0, 65.0,  9.4, 9.4, 9.2, 0.407]]  # 44.3\n",
    "\n",
    "# actual prediction\n",
    "test3 = [[0, 5, 300, 19, 82, 1495, 68, 40, 18, 17, 14, 0.5]]  # ?"
   ]
  },
  {
   "cell_type": "code",
   "execution_count": 29,
   "metadata": {},
   "outputs": [],
   "source": [
    "'''\n",
    "Organise features to include 'LIFE_EXPECTANCY'\n",
    "'''\n",
    "\n",
    "x = reg_life_df[[\"STATUS\", \"ALCOHOL\", \"ADULT_MORTALITY\", \"BMI\", \"INFANT_DEATHS\", \"MEASLES\", \"POLIO\", \"DIPHTHERIA\", \"THINNESS_5-9_YEARS\",\"THINNESS_10-19_YEARS\", \"SCHOOLING\", \"INCOME_COMPOSITION_OF_RESOURCES\", \"LIFE_EXPECTANCY\"]]"
   ]
  },
  {
   "cell_type": "code",
   "execution_count": 31,
   "metadata": {},
   "outputs": [
    {
     "name": "stdout",
     "output_type": "stream",
     "text": [
      "Predicted Life Expectancy:  55.01509232379059\n",
      "Actual Life Expectancy:  57.3\n"
     ]
    }
   ],
   "source": [
    "'''\n",
    "Peform prediction\n",
    "'''\n",
    "\n",
    "# convert to numpy array\n",
    "x_array = x.to_numpy()\n",
    "\n",
    "# initialsie the Multi-Layer-Perceptron Regressor with 3 lots of hidden layers\n",
    "mlp2 = MLPRegressor(hidden_layer_sizes=(250, 150, 150),\n",
    "                    # set max iterations\n",
    "                    max_iter = 10000, \n",
    "                    # set the learning rate\n",
    "                    learning_rate_init=0.0001,\n",
    "                    # set the random state\n",
    "                    random_state=12,\n",
    "                    # choose the activation model\n",
    "                    activation = 'relu',\n",
    "                    # choose the solver\n",
    "                    solver = 'adam'\n",
    "                    #fit the data to train\n",
    "                    ).fit(x_array[:,:-1], x_array[:,-1])\n",
    "\n",
    "# predict a result from the given values using the training data\n",
    "predict_result = mlp2.predict(test2)\n",
    "\n",
    "# print prediction\n",
    "print(\"Predicted Life Expectancy: \", predict_result[0])\n",
    "print(\"Actual Life Expectancy: \", reg_life_df[\"LIFE_EXPECTANCY\"].loc[index])"
   ]
  },
  {
   "cell_type": "code",
   "execution_count": null,
   "metadata": {},
   "outputs": [],
   "source": []
  }
 ],
 "metadata": {
  "kernelspec": {
   "display_name": "Python 3",
   "language": "python",
   "name": "python3"
  },
  "language_info": {
   "codemirror_mode": {
    "name": "ipython",
    "version": 3
   },
   "file_extension": ".py",
   "mimetype": "text/x-python",
   "name": "python",
   "nbconvert_exporter": "python",
   "pygments_lexer": "ipython3",
   "version": "3.8.5"
  }
 },
 "nbformat": 4,
 "nbformat_minor": 5
}
