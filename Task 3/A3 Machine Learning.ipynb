{
 "cells": [
  {
   "cell_type": "markdown",
   "id": "7e4f2275",
   "metadata": {},
   "source": [
    "# SIT307 - Machine Learning Challenge (Assignment 3)\n",
    "\n",
    "Our chosen dataset is [Life Expectancy (WHO)](https://www.kaggle.com/datasets/kumarajarshi/life-expectancy-who).\n",
    "\n",
    "Prepared by\n",
    "\n",
    "| Student           | Student ID |\n",
    "|-------------------|------------|\n",
    "| HOOMAN SHYKHIPOUR | 220060109  |\n",
    "| SARAH GOSLING     | 220094149  |\n",
    "| DEVIN JAYASINGHE  | 220228075  |\n",
    "| RYAN WAITES       | 215127684  |\n",
    "| ANTHONY GEORGE    | 220180567  |\n",
    "| MATT KINNIA       | 219311697  |"
   ]
  },
  {
   "cell_type": "code",
   "execution_count": 283,
   "id": "e6103afd",
   "metadata": {
    "scrolled": false
   },
   "outputs": [],
   "source": [
    "import warnings\n",
    "import numpy as np\n",
    "import pandas as pd\n",
    "import seaborn as sns\n",
    "from statistics import mean\n",
    "import matplotlib.pyplot as plt\n",
    "import matplotlib.ticker as mtick\n",
    "import missingno as msno"
   ]
  },
  {
   "cell_type": "code",
   "execution_count": 284,
   "id": "e3243bd6",
   "metadata": {},
   "outputs": [],
   "source": [
    "# Ignore inline warnings thrown by packages\n",
    "warnings.filterwarnings(\"ignore\")"
   ]
  },
  {
   "cell_type": "code",
   "execution_count": 285,
   "id": "a1fd4700",
   "metadata": {
    "scrolled": false
   },
   "outputs": [],
   "source": [
    "life_df = pd.read_csv('Cleaned_Life_Expectancy_Data.csv', delimiter=',')"
   ]
  },
  {
   "cell_type": "markdown",
   "id": "935f712e",
   "metadata": {},
   "source": [
    "# Section 1: Introduction"
   ]
  },
  {
   "cell_type": "code",
   "execution_count": null,
   "id": "cd46d5b8",
   "metadata": {},
   "outputs": [],
   "source": []
  },
  {
   "cell_type": "code",
   "execution_count": null,
   "id": "6c16e4c4",
   "metadata": {},
   "outputs": [],
   "source": []
  },
  {
   "cell_type": "code",
   "execution_count": null,
   "id": "c9dcec2d",
   "metadata": {},
   "outputs": [],
   "source": []
  },
  {
   "cell_type": "markdown",
   "id": "47eae15c",
   "metadata": {},
   "source": [
    "# Section 2: Machine Learning"
   ]
  },
  {
   "cell_type": "markdown",
   "id": "89da4c5f",
   "metadata": {},
   "source": [
    "## Section 2.1: Classification"
   ]
  },
  {
   "cell_type": "markdown",
   "id": "087f83a4",
   "metadata": {},
   "source": [
    "The aim of this to find a classifiaction model which can predict if a given data is from developed or developing country (status column). First,'STATUS' column is set as the target and features are 'LIFE_EXPECTANCY','ALCOHOL','ADULT_MORTALITY','BMI','INFANT_DEATHS','SCHOOLING'"
   ]
  },
  {
   "cell_type": "code",
   "execution_count": 286,
   "id": "f6313eb1",
   "metadata": {},
   "outputs": [],
   "source": [
    "from sklearn.model_selection import cross_val_score\n",
    "from sklearn.model_selection import train_test_split\n",
    "from sklearn.model_selection import ShuffleSplit\n",
    "from sklearn.tree import DecisionTreeClassifier"
   ]
  },
  {
   "cell_type": "markdown",
   "id": "c1c790c6",
   "metadata": {},
   "source": [
    "### Decision Tree"
   ]
  },
  {
   "cell_type": "code",
   "execution_count": 287,
   "id": "460b1af4",
   "metadata": {},
   "outputs": [],
   "source": [
    "# removing any N/A values\n",
    "cols = ['STATUS','LIFE_EXPECTANCY', 'ALCOHOL', 'ADULT_MORTALITY','BMI', 'INFANT_DEATHS', 'SCHOOLING']\n",
    "ML_life_df = life_df[cols]\n",
    "ML_life_df = ML_life_df.dropna()"
   ]
  },
  {
   "cell_type": "code",
   "execution_count": 288,
   "id": "ca26acd8",
   "metadata": {},
   "outputs": [],
   "source": [
    "# define X and y\n",
    "feature_cols = ['LIFE_EXPECTANCY', 'ALCOHOL', 'ADULT_MORTALITY','BMI', 'INFANT_DEATHS', 'SCHOOLING']\n",
    "X = ML_life_df[feature_cols]\n",
    "y = ML_life_df['STATUS']\n",
    "y=y.astype('int')"
   ]
  },
  {
   "cell_type": "code",
   "execution_count": 289,
   "id": "3272fe7b",
   "metadata": {},
   "outputs": [],
   "source": [
    "#Spliting dataset into training and testing (80% train - 20% test)\n",
    "Xtrain, Xtest, ytrain, ytest = train_test_split(X, y, test_size=0.2, random_state=42)\n"
   ]
  },
  {
   "cell_type": "code",
   "execution_count": 290,
   "id": "cd80cda7",
   "metadata": {},
   "outputs": [
    {
     "name": "stdout",
     "output_type": "stream",
     "text": [
      "CPU times: total: 15.6 ms\n",
      "Wall time: 10 ms\n"
     ]
    },
    {
     "data": {
      "text/plain": [
       "DecisionTreeClassifier(max_depth=7, random_state=1)"
      ]
     },
     "execution_count": 290,
     "metadata": {},
     "output_type": "execute_result"
    }
   ],
   "source": [
    "# Fit our training data\n",
    "treeclf = DecisionTreeClassifier(max_depth=7, random_state=1)\n",
    "%time treeclf.fit(Xtrain, ytrain)"
   ]
  },
  {
   "cell_type": "code",
   "execution_count": 291,
   "id": "8770daf5",
   "metadata": {},
   "outputs": [
    {
     "name": "stdout",
     "output_type": "stream",
     "text": [
      "Accuracy for each fold: [0.98173516 0.95890411 0.96347032 0.99086758 0.95890411 0.96803653\n",
      " 0.96803653 0.97260274 0.95412844 0.96788991]\n",
      "Mean Accuracy: 96.84575426249424\n",
      "Standard Deviation: 1.053%\n"
     ]
    }
   ],
   "source": [
    "#calculating scores by StratifiedKFold\n",
    "scores = cross_val_score(treeclf, Xtrain, ytrain, cv=10, scoring='accuracy')\n",
    "print(\"Accuracy for each fold: {}\".format(scores))\n",
    "print(\"Mean Accuracy: {}\".format(np.mean(scores)*100))\n",
    "print(\"Standard Deviation: %.3f%%\"%(np.std(scores)*100))"
   ]
  },
  {
   "cell_type": "code",
   "execution_count": 292,
   "id": "a25a42a3",
   "metadata": {},
   "outputs": [
    {
     "name": "stdout",
     "output_type": "stream",
     "text": [
      "Accuracy for each fold: [0.97260274 0.97945205 0.96803653 0.95890411 0.956621   0.97260274\n",
      " 0.96575342 0.93835616 0.98401826 0.96575342]\n",
      "Mean Accuracy: 96.621%\n",
      "Standard Deviation: 1.224%\n"
     ]
    }
   ],
   "source": [
    "#calculating scores by ShuffleSplit\n",
    "scores = cross_val_score(treeclf, Xtrain, ytrain, cv = ShuffleSplit(n_splits=10, test_size=0.2, random_state=0), scoring='accuracy')\n",
    "print(\"Accuracy for each fold: {}\".format(scores))\n",
    "print(\"Mean Accuracy: %.3f%%\"%(np.mean(scores)*100))\n",
    "print(\"Standard Deviation: %.3f%%\"%(np.std(scores)*100))"
   ]
  },
  {
   "cell_type": "markdown",
   "id": "bea731a4",
   "metadata": {},
   "source": [
    "### Logistic Regression"
   ]
  },
  {
   "cell_type": "code",
   "execution_count": 293,
   "id": "1216b4ef",
   "metadata": {},
   "outputs": [],
   "source": [
    "from sklearn.linear_model import LogisticRegression\n",
    "from sklearn.model_selection import KFold"
   ]
  },
  {
   "cell_type": "code",
   "execution_count": 294,
   "id": "d4626609",
   "metadata": {},
   "outputs": [
    {
     "name": "stdout",
     "output_type": "stream",
     "text": [
      "CPU times: total: 93.8 ms\n",
      "Wall time: 95.8 ms\n"
     ]
    },
    {
     "data": {
      "text/plain": [
       "LogisticRegression(max_iter=10000)"
      ]
     },
     "execution_count": 294,
     "metadata": {},
     "output_type": "execute_result"
    }
   ],
   "source": [
    "model = LogisticRegression(max_iter=10000)\n",
    "%time model.fit(X, y)"
   ]
  },
  {
   "cell_type": "code",
   "execution_count": 295,
   "id": "8e7d9b05",
   "metadata": {},
   "outputs": [],
   "source": [
    "kfold = KFold(n_splits=10, random_state=1, shuffle=True)"
   ]
  },
  {
   "cell_type": "code",
   "execution_count": 296,
   "id": "d9db1585",
   "metadata": {},
   "outputs": [],
   "source": [
    "results = cross_val_score(model, X, y, cv=kfold)"
   ]
  },
  {
   "cell_type": "code",
   "execution_count": 297,
   "id": "c9351f8c",
   "metadata": {},
   "outputs": [
    {
     "name": "stdout",
     "output_type": "stream",
     "text": [
      "Accuracy for each fold: [0.9379562  0.93430657 0.95620438 0.93065693 0.92335766 0.93430657\n",
      " 0.92673993 0.94139194 0.92673993 0.92673993]\n",
      "Mean Accuracy: 93.384%\n",
      "Standard Deviation: 0.920%\n"
     ]
    }
   ],
   "source": [
    "print(\"Accuracy for each fold: {}\".format(results))\n",
    "print(\"Mean Accuracy: %.3f%%\" % (results.mean()*100.0))\n",
    "print(\"Standard Deviation: %.3f%%\" % (results.std()*100.0))"
   ]
  },
  {
   "cell_type": "markdown",
   "id": "7e34536f",
   "metadata": {},
   "source": [
    "### Neural Network"
   ]
  },
  {
   "cell_type": "code",
   "execution_count": 298,
   "id": "0cdba660",
   "metadata": {},
   "outputs": [],
   "source": [
    "from sklearn.neural_network import MLPClassifier\n",
    "from sklearn.preprocessing import StandardScaler\n",
    "from sklearn.metrics import classification_report,confusion_matrix"
   ]
  },
  {
   "cell_type": "code",
   "execution_count": 299,
   "id": "b95cba37",
   "metadata": {},
   "outputs": [],
   "source": [
    "# Normalisation training data\n",
    "scaler = StandardScaler()\n",
    "scaler.fit(Xtrain)\n",
    "Xtrain = scaler.transform(Xtrain)\n",
    "Xtest = scaler.transform(Xtest)"
   ]
  },
  {
   "cell_type": "markdown",
   "id": "573dd4c0",
   "metadata": {},
   "source": [
    "create a neural network with 3 hidden layers, each with 30 neurons"
   ]
  },
  {
   "cell_type": "code",
   "execution_count": 300,
   "id": "eb4fb728",
   "metadata": {},
   "outputs": [],
   "source": [
    "mlp = MLPClassifier(hidden_layer_sizes=(200,200,200,200),momentum=0.2,max_iter=10000,alpha=0.1)"
   ]
  },
  {
   "cell_type": "code",
   "execution_count": 301,
   "id": "99e9d3e6",
   "metadata": {},
   "outputs": [
    {
     "name": "stdout",
     "output_type": "stream",
     "text": [
      "CPU times: total: 27.3 s\n",
      "Wall time: 12.3 s\n"
     ]
    },
    {
     "data": {
      "text/plain": [
       "MLPClassifier(alpha=0.1, hidden_layer_sizes=(200, 200, 200, 200),\n",
       "              max_iter=10000, momentum=0.2)"
      ]
     },
     "execution_count": 301,
     "metadata": {},
     "output_type": "execute_result"
    }
   ],
   "source": [
    "%time mlp.fit(Xtrain,ytrain)"
   ]
  },
  {
   "cell_type": "code",
   "execution_count": 302,
   "id": "0b5c2794",
   "metadata": {},
   "outputs": [],
   "source": [
    "predictions = mlp.predict(Xtest)"
   ]
  },
  {
   "cell_type": "code",
   "execution_count": 303,
   "id": "b36c5b85",
   "metadata": {},
   "outputs": [
    {
     "name": "stdout",
     "output_type": "stream",
     "text": [
      "[[449  11]\n",
      " [  1  87]]\n"
     ]
    }
   ],
   "source": [
    "print(confusion_matrix(ytest,predictions))"
   ]
  },
  {
   "cell_type": "code",
   "execution_count": 304,
   "id": "8baf3f0a",
   "metadata": {},
   "outputs": [
    {
     "name": "stdout",
     "output_type": "stream",
     "text": [
      "              precision    recall  f1-score   support\n",
      "\n",
      "           0       1.00      0.98      0.99       460\n",
      "           1       0.89      0.99      0.94        88\n",
      "\n",
      "    accuracy                           0.98       548\n",
      "   macro avg       0.94      0.98      0.96       548\n",
      "weighted avg       0.98      0.98      0.98       548\n",
      "\n"
     ]
    }
   ],
   "source": [
    "print(classification_report(ytest,predictions))"
   ]
  },
  {
   "cell_type": "markdown",
   "id": "5094d972",
   "metadata": {},
   "source": [
    "## Section 2.2: Regression"
   ]
  },
  {
   "cell_type": "code",
   "execution_count": 305,
   "id": "d3d46f52",
   "metadata": {},
   "outputs": [],
   "source": [
    "# Import the required packages for out regression models.\n",
    "from sklearn.linear_model import LinearRegression\n",
    "from sklearn.metrics import mean_squared_error, r2_score"
   ]
  },
  {
   "cell_type": "code",
   "execution_count": 306,
   "id": "b908285a",
   "metadata": {},
   "outputs": [],
   "source": [
    "# Pull the required columns from the source dataset.\n",
    "reg_life_df = life_df[[\"STATUS\", \"LIFE_EXPECTANCY\", \"ALCOHOL\", \"ADULT_MORTALITY\", \"BMI\", \"INFANT_DEATHS\", \"SCHOOLING\"]]\n",
    "reg_life_df = reg_life_df.dropna()\n",
    "\n",
    "# Define our x (independent) and y (dependent) variables for our regression models.\n",
    "x = reg_life_df[[\"STATUS\", \"ALCOHOL\", \"ADULT_MORTALITY\", \"BMI\", \"INFANT_DEATHS\", \"SCHOOLING\"]]\n",
    "y = reg_life_df[\"LIFE_EXPECTANCY\"]"
   ]
  },
  {
   "cell_type": "code",
   "execution_count": 307,
   "id": "ec94acfe",
   "metadata": {},
   "outputs": [],
   "source": [
    "# Split our dataset into training and testing samples. We are using 80% for training and 20% for testing.\n",
    "# NOTE: Using a the \"random_state\" parameter ensures we get repeatable results for each execution.\n",
    "x_train, x_test, y_train, y_test = train_test_split(x, y, test_size=0.2, random_state=42)"
   ]
  },
  {
   "cell_type": "markdown",
   "id": "e6d1557e",
   "metadata": {},
   "source": [
    "### Linear Regression\n",
    "\n",
    "Using an ordinary least squares Linear Regression model we can predict `LIFE_EXPECTANCY` using a one or more explanatory features."
   ]
  },
  {
   "cell_type": "code",
   "execution_count": 308,
   "id": "57ee5498",
   "metadata": {},
   "outputs": [
    {
     "data": {
      "text/plain": [
       "LinearRegression()"
      ]
     },
     "execution_count": 308,
     "metadata": {},
     "output_type": "execute_result"
    }
   ],
   "source": [
    "# Create and train the ordinary least squares Linear Regression model based on our training data.\n",
    "linear_regression = LinearRegression()\n",
    "linear_regression.fit(x_train, y_train)"
   ]
  },
  {
   "cell_type": "code",
   "execution_count": 309,
   "id": "d4b6b7e2",
   "metadata": {},
   "outputs": [],
   "source": [
    "# Run a prediction using our testing data.\n",
    "y_pred = linear_regression.predict(x_test)"
   ]
  },
  {
   "cell_type": "markdown",
   "id": "04043a92",
   "metadata": {},
   "source": [
    "#### Performance\n",
    "\n",
    "TODO: Add some commentary on model performance "
   ]
  },
  {
   "cell_type": "code",
   "execution_count": 310,
   "id": "03a1a819",
   "metadata": {},
   "outputs": [
    {
     "name": "stdout",
     "output_type": "stream",
     "text": [
      "Coefficient of determination: 0.8898114900668911\n",
      "Mean squared error: 9.452353769674819\n"
     ]
    }
   ],
   "source": [
    "print(f\"Coefficient of determination: {r2_score(y_test, y_pred)}\")\n",
    "print(f\"Mean squared error: {mean_squared_error(y_test, y_pred)}\")"
   ]
  },
  {
   "cell_type": "code",
   "execution_count": 311,
   "id": "7be283ef",
   "metadata": {},
   "outputs": [
    {
     "data": {
      "text/plain": [
       "[Text(0.5, 1.0, 'Actual vs. Predicted Life Expectancy'),\n",
       " Text(0.5, 0, 'Actual Value'),\n",
       " Text(0, 0.5, 'Predicted Value')]"
      ]
     },
     "execution_count": 311,
     "metadata": {},
     "output_type": "execute_result"
    },
    {
     "data": {
      "image/png": "[encoded data removed]",
      "text/plain": [
       "<Figure size 432x288 with 1 Axes>"
      ]
     },
     "metadata": {
      "needs_background": "light"
     },
     "output_type": "display_data"
    }
   ],
   "source": [
    "# Plot actual vs predicted values.\n",
    "plot = sns.scatterplot(x=y_test, y=y_pred)\n",
    "plot.set(title=\"Actual vs. Predicted Life Expectancy\", xlabel=\"Actual Value\", ylabel=\"Predicted Value\")"
   ]
  },
  {
   "cell_type": "markdown",
   "id": "6185d68f",
   "metadata": {},
   "source": [
    "### Regression Model 2?"
   ]
  },
  {
   "cell_type": "markdown",
   "id": "6fb41af8",
   "metadata": {},
   "source": [
    "### Regression Model 3?"
   ]
  }
 ],
 "metadata": {
  "kernelspec": {
   "display_name": "venv",
   "language": "python",
   "name": "venv"
  },
  "language_info": {
   "codemirror_mode": {
    "name": "ipython",
    "version": 3
   },
   "file_extension": ".py",
   "mimetype": "text/x-python",
   "name": "python",
   "nbconvert_exporter": "python",
   "pygments_lexer": "ipython3",
   "version": "3.9.1"
  }
 },
 "nbformat": 4,
 "nbformat_minor": 5
}
