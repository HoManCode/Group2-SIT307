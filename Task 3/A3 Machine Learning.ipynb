{
 "cells": [
  {
   "cell_type": "markdown",
   "id": "9ab2f4e1",
   "metadata": {},
   "source": [
    "# SIT307 - Machine Learning Challenge (Assignment 3)\n",
    "\n",
    "Our chosen dataset is [Life Expectancy (WHO)](https://www.kaggle.com/datasets/kumarajarshi/life-expectancy-who).\n",
    "\n",
    "Prepared by\n",
    "\n",
    "| Student           | Student ID |\n",
    "|-------------------|------------|\n",
    "| HOOMAN SHYKHIPOUR | 220060109  |\n",
    "| SARAH GOSLING     | 220094149  |\n",
    "| DEVIN JAYASINGHE  | 220228075  |\n",
    "| RYAN WAITES       | 215127684  |\n",
    "| ANTHONY GEORGE    | 220180567  |\n",
    "| MATT KINNIA       | 219311697  |"
   ]
  },
  {
   "cell_type": "code",
   "execution_count": 1,
   "id": "7d298f5f",
   "metadata": {
    "scrolled": false
   },
   "outputs": [],
   "source": [
    "'''\n",
    "Import all necessary libraries\n",
    "'''\n",
    "\n",
    "import warnings\n",
    "import numpy as np\n",
    "import pandas as pd\n",
    "import seaborn as sns\n",
    "import matplotlib.pyplot as plt\n",
    "import matplotlib.ticker as mtick\n",
    "\n",
    "# Import the required packages for our regression models.\n",
    "from statistics import mean\n",
    "from sklearn.neural_network import MLPRegressor\n",
    "from sklearn.datasets import make_regression\n",
    "from sklearn.linear_model import LinearRegression, Lasso, LassoCV\n",
    "from sklearn.model_selection import train_test_split\n",
    "from sklearn.metrics import r2_score, mean_absolute_error, mean_squared_error\n",
    "from sklearn.preprocessing import StandardScaler, LabelEncoder\n",
    "from sklearn.linear_model import lars_path"
   ]
  },
  {
   "cell_type": "code",
   "execution_count": 2,
   "id": "f0094379",
   "metadata": {},
   "outputs": [],
   "source": [
    "# Ignore inline warnings thrown by packages\n",
    "warnings.filterwarnings(\"ignore\")"
   ]
  },
  {
   "cell_type": "code",
   "execution_count": 3,
   "id": "8bdc4fdc",
   "metadata": {
    "scrolled": false
   },
   "outputs": [],
   "source": [
    "'''\n",
    "Get our cleaned dataset\n",
    "'''\n",
    "\n",
    "life_df = pd.read_csv('Cleaned_Life_Expectancy_Data.csv', delimiter=',')"
   ]
  },
  {
   "cell_type": "markdown",
   "id": "da758960",
   "metadata": {},
   "source": [
    "# Section 1: Introduction"
   ]
  },
  {
   "cell_type": "markdown",
   "id": "5eac0244",
   "metadata": {},
   "source": [
    "### Aims\n",
    "#### Building upon our previous analysis of the Life Expectancy dataset in Assignment 2, we identified key observable relationships between features, particularly regarding different features and their effects on Life Expectancy.\n",
    "\n",
    "#### In this notebook we aim to confirm the best set of features and accurately predict life expectancy based upon these. To do so, we utilised three separate machine learning regression models, in the pursuit of creating the most accurate model for our problem, as follows...\n",
    "-\t#### Linear Regression\n",
    "-\t#### Artificial Neural Network Multi-Layer Perceptron Regression\n",
    "-\t#### LASSO Regression\n",
    "\n",
    "### Hypothesis\n",
    "\n",
    "#### We hypothesise that our best model will predict life expectancy within 2% accuracy, based on a testing and training ratio of 80 and 20 respectively.\n"
   ]
  },
  {
   "cell_type": "markdown",
   "id": "384c7bf0",
   "metadata": {},
   "source": [
    "# Section 2: Machine Learning"
   ]
  },
  {
   "cell_type": "markdown",
   "id": "a7b49605",
   "metadata": {},
   "source": [
    "## Section 2.1: Regression"
   ]
  },
  {
   "cell_type": "code",
   "execution_count": 4,
   "id": "50c9710c",
   "metadata": {},
   "outputs": [],
   "source": [
    "'''\n",
    "Let's organise our features to use in our regression model\n",
    "'''\n",
    "\n",
    "# Convert country, a categorical text field, to a numerical class should we wish to use it in any models.\n",
    "label_encoder = LabelEncoder()\n",
    "life_df[\"COUNTRY_CLASS\"] = label_encoder.fit_transform(life_df[\"COUNTRY\"])\n",
    "\n",
    "# Pull the required columns from the source dataset.\n",
    "reg_life_df = life_df[[\"STATUS\", \"LIFE_EXPECTANCY\", \"ALCOHOL\", \"ADULT_MORTALITY\",\"MEASLES\",\"POLIO\",\"DIPHTHERIA\", \"BMI\", \"INFANT_DEATHS\",\"THINNESS_5-9_YEARS\",\"THINNESS_10-19_YEARS\", \"SCHOOLING\",\"INCOME_COMPOSITION_OF_RESOURCES\"]]\n",
    "reg_life_df = reg_life_df.dropna()\n",
    "\n",
    "# Define our x (independent) and y (dependent) variables for our regression models.\n",
    "x = reg_life_df[[\"STATUS\", \"ALCOHOL\", \"ADULT_MORTALITY\", \"BMI\", \"INFANT_DEATHS\",\"MEASLES\",\"POLIO\",\"DIPHTHERIA\",\"THINNESS_5-9_YEARS\",\"THINNESS_10-19_YEARS\", \"SCHOOLING\",\"INCOME_COMPOSITION_OF_RESOURCES\"]]\n",
    "y = reg_life_df[\"LIFE_EXPECTANCY\"]"
   ]
  },
  {
   "cell_type": "code",
   "execution_count": 5,
   "id": "0bedbee5",
   "metadata": {},
   "outputs": [],
   "source": [
    "'''\n",
    "Split data into testing and training data\n",
    "'''\n",
    "\n",
    "# Split our dataset into training and testing samples. We are using 80% for training and 20% for testing.\n",
    "# NOTE: Using a the \"random_state\" parameter ensures we get repeatable results for each execution.\n",
    "x_train, x_test, y_train, y_test = train_test_split(x, y, test_size=0.2, random_state=42)\n",
    "\n",
    "# Scale our train and test features using standardization.\n",
    "std_scaler = StandardScaler()\n",
    "std_scaler.fit(x_train.values)\n",
    "\n",
    "x_train_scaled = std_scaler.transform(x_train.values)\n",
    "x_test_scaled  = std_scaler.transform(x_test.values)"
   ]
  },
  {
   "cell_type": "markdown",
   "id": "f24e1f9d",
   "metadata": {},
   "source": [
    "### Linear Regression\n",
    "\n",
    "Using an ordinary least squares Linear Regression model we can predict `LIFE_EXPECTANCY` using a one or more explanatory features."
   ]
  },
  {
   "cell_type": "code",
   "execution_count": 6,
   "id": "36286e88",
   "metadata": {},
   "outputs": [
    {
     "data": {
      "text/plain": [
       "LinearRegression()"
      ]
     },
     "execution_count": 6,
     "metadata": {},
     "output_type": "execute_result"
    }
   ],
   "source": [
    "'''\n",
    "Build and train Linear Regression model\n",
    "'''\n",
    "\n",
    "# Create and train the ordinary least squares Linear Regression model based on our training data.\n",
    "linear_regression = LinearRegression()\n",
    "linear_regression.fit(x_train_scaled, y_train)"
   ]
  },
  {
   "cell_type": "code",
   "execution_count": 7,
   "id": "48b1a72e",
   "metadata": {},
   "outputs": [],
   "source": [
    "'''\n",
    "Test model\n",
    "'''\n",
    "\n",
    "# Run a prediction using our testing data.\n",
    "y_pred = linear_regression.predict(x_test_scaled)"
   ]
  },
  {
   "cell_type": "markdown",
   "id": "b50790d3",
   "metadata": {},
   "source": [
    "#### Performance"
   ]
  },
  {
   "cell_type": "code",
   "execution_count": 8,
   "id": "c317e53a",
   "metadata": {},
   "outputs": [
    {
     "name": "stdout",
     "output_type": "stream",
     "text": [
      "Coefficient of determination: 0.9238680302251875\n",
      "Mean Absolute Error: 1.8176607104482663\n",
      "Mean Squared Error: 6.53086525927772\n",
      "Root Mean Squared Error: 2.5555557632886274\n"
     ]
    }
   ],
   "source": [
    "'''\n",
    "Evaluate Performance\n",
    "'''\n",
    "\n",
    "# Print the model's performance indicators.\n",
    "print(f\"Coefficient of determination: {r2_score(y_test, y_pred)}\")\n",
    "print(f\"Mean Absolute Error: {mean_absolute_error(y_test, y_pred)}\")  \n",
    "print(f\"Mean Squared Error: {mean_squared_error(y_test, y_pred)}\")  \n",
    "print(f\"Root Mean Squared Error: {np.sqrt(mean_squared_error(y_test, y_pred))}\")"
   ]
  },
  {
   "cell_type": "code",
   "execution_count": 9,
   "id": "b75621b6",
   "metadata": {},
   "outputs": [
    {
     "data": {
      "text/html": [
       "<div>\n",
       "<style scoped>\n",
       "    .dataframe tbody tr th:only-of-type {\n",
       "        vertical-align: middle;\n",
       "    }\n",
       "\n",
       "    .dataframe tbody tr th {\n",
       "        vertical-align: top;\n",
       "    }\n",
       "\n",
       "    .dataframe thead th {\n",
       "        text-align: right;\n",
       "    }\n",
       "</style>\n",
       "<table border=\"1\" class=\"dataframe\">\n",
       "  <thead>\n",
       "    <tr style=\"text-align: right;\">\n",
       "      <th></th>\n",
       "      <th>Actual</th>\n",
       "      <th>Predicted</th>\n",
       "    </tr>\n",
       "  </thead>\n",
       "  <tbody>\n",
       "    <tr>\n",
       "      <th>783</th>\n",
       "      <td>70.2</td>\n",
       "      <td>68.608839</td>\n",
       "    </tr>\n",
       "    <tr>\n",
       "      <th>1615</th>\n",
       "      <td>69.6</td>\n",
       "      <td>68.791612</td>\n",
       "    </tr>\n",
       "    <tr>\n",
       "      <th>410</th>\n",
       "      <td>53.3</td>\n",
       "      <td>54.768536</td>\n",
       "    </tr>\n",
       "    <tr>\n",
       "      <th>1852</th>\n",
       "      <td>79.1</td>\n",
       "      <td>79.510794</td>\n",
       "    </tr>\n",
       "    <tr>\n",
       "      <th>523</th>\n",
       "      <td>45.7</td>\n",
       "      <td>44.771927</td>\n",
       "    </tr>\n",
       "    <tr>\n",
       "      <th>881</th>\n",
       "      <td>64.2</td>\n",
       "      <td>60.560052</td>\n",
       "    </tr>\n",
       "    <tr>\n",
       "      <th>883</th>\n",
       "      <td>63.3</td>\n",
       "      <td>59.547605</td>\n",
       "    </tr>\n",
       "    <tr>\n",
       "      <th>1444</th>\n",
       "      <td>73.6</td>\n",
       "      <td>74.201069</td>\n",
       "    </tr>\n",
       "    <tr>\n",
       "      <th>511</th>\n",
       "      <td>79.1</td>\n",
       "      <td>78.469725</td>\n",
       "    </tr>\n",
       "    <tr>\n",
       "      <th>1554</th>\n",
       "      <td>64.7</td>\n",
       "      <td>62.346559</td>\n",
       "    </tr>\n",
       "  </tbody>\n",
       "</table>\n",
       "</div>"
      ],
      "text/plain": [
       "      Actual  Predicted\n",
       "783     70.2  68.608839\n",
       "1615    69.6  68.791612\n",
       "410     53.3  54.768536\n",
       "1852    79.1  79.510794\n",
       "523     45.7  44.771927\n",
       "881     64.2  60.560052\n",
       "883     63.3  59.547605\n",
       "1444    73.6  74.201069\n",
       "511     79.1  78.469725\n",
       "1554    64.7  62.346559"
      ]
     },
     "execution_count": 9,
     "metadata": {},
     "output_type": "execute_result"
    }
   ],
   "source": [
    "'''\n",
    "Prediction comparison\n",
    "'''\n",
    "\n",
    "# Print actual vs predicted values. \n",
    "pd.DataFrame({\"Actual\": y_test, \"Predicted\": y_pred}).head(10)"
   ]
  },
  {
   "cell_type": "code",
   "execution_count": 10,
   "id": "8979949a",
   "metadata": {},
   "outputs": [
    {
     "data": {
      "text/plain": [
       "[Text(0.5, 1.0, 'Actual vs. Predicted Life Expectancy'),\n",
       " Text(0.5, 0, 'Actual Value'),\n",
       " Text(0, 0.5, 'Predicted Value')]"
      ]
     },
     "execution_count": 10,
     "metadata": {},
     "output_type": "execute_result"
    },
    {
     "data": {
      "image/png": "[encoded data removed]",
      "text/plain": [
       "<Figure size 432x288 with 1 Axes>"
      ]
     },
     "metadata": {
      "needs_background": "light"
     },
     "output_type": "display_data"
    }
   ],
   "source": [
    "'''\n",
    "Plot prediction comparison\n",
    "'''\n",
    "\n",
    "# Plot actual vs predicted values.\n",
    "plot = sns.scatterplot(x=y_test, y=y_pred)\n",
    "plot.set(title=\"Actual vs. Predicted Life Expectancy\", xlabel=\"Actual Value\", ylabel=\"Predicted Value\")"
   ]
  },
  {
   "cell_type": "markdown",
   "id": "1904975d",
   "metadata": {},
   "source": [
    "#### Prediction\n",
    "\n",
    "Predict life expectancy using previously unseen data."
   ]
  },
  {
   "cell_type": "code",
   "execution_count": 11,
   "id": "da796101",
   "metadata": {},
   "outputs": [
    {
     "name": "stdout",
     "output_type": "stream",
     "text": [
      "Given provided features, the predicted life expectancy is: 55.88050060426035\n"
     ]
    }
   ],
   "source": [
    "'''\n",
    "Perform prediction with new data\n",
    "'''\n",
    "\n",
    "# Provide a set of previously unseen features.\n",
    "# STATUS, ALCOHOL, ADULT_MORTALITY, BMI, INFANT_DEATHS, MEASLES, POLIO, DIPHTHERIA, THINNESS_5-9_YEARS, THINNESS_10-19_YEARS, SCHOOLING, INCOME_COMPOSITION_OF_RESOURCES\n",
    "new_features = [[0, 5, 300, 19, 82, 1495, 68, 40, 18, 17, 14, 0.5]]\n",
    "\n",
    "# Scale these features using standardization \n",
    "new_features_scaled = std_scaler.transform(new_features)\n",
    "\n",
    "# Predict the life expectancy given the new features\n",
    "new_pred = linear_regression.predict(new_features_scaled)\n",
    "print(f\"Given provided features, the predicted life expectancy is: {new_pred[0]}\")"
   ]
  },
  {
   "cell_type": "markdown",
   "id": "57ef41c9",
   "metadata": {},
   "source": [
    "### Lasso Regression "
   ]
  },
  {
   "cell_type": "markdown",
   "id": "16c2d637",
   "metadata": {},
   "source": [
    "####  finding best ALPHA value for L1 regularization,implementing lassoCV"
   ]
  },
  {
   "cell_type": "code",
   "execution_count": 12,
   "id": "48e13151",
   "metadata": {},
   "outputs": [
    {
     "data": {
      "text/plain": [
       "0.012173827277396614"
      ]
     },
     "execution_count": 12,
     "metadata": {},
     "output_type": "execute_result"
    }
   ],
   "source": [
    "'''\n",
    "Determine best alpha, build and train LASSO regression model\n",
    "'''\n",
    "\n",
    "# Run the cross validation, find the best alpha, refit the model on all the data with that alpha\n",
    "alphavec = 10**np.linspace(-3,3,200)   # alpha varies from 0.001 to 1000\n",
    "lasso_model = LassoCV(alphas = alphavec, cv=5)\n",
    "lasso_model.fit(x_train_scaled, y_train)\n",
    "# This is the best alpha value found\n",
    "lasso_model.alpha_ \n"
   ]
  },
  {
   "cell_type": "code",
   "execution_count": 13,
   "id": "7a6db0a7",
   "metadata": {},
   "outputs": [
    {
     "data": {
      "text/plain": [
       "[('STATUS', 0.12540144182981428),\n",
       " ('ALCOHOL', -0.01712369191563201),\n",
       " ('ADULT_MORTALITY', -4.479060598744765),\n",
       " ('BMI', 0.18181222245651896),\n",
       " ('INFANT_DEATHS', 0.15874142618205428),\n",
       " ('MEASLES', -0.2850918092368945),\n",
       " ('POLIO', -0.0),\n",
       " ('DIPHTHERIA', 1.0785488519160238),\n",
       " ('THINNESS_5-9_YEARS', -0.036196874877915605),\n",
       " ('THINNESS_10-19_YEARS', -0.11107439652977479),\n",
       " ('SCHOOLING', 0.0),\n",
       " ('INCOME_COMPOSITION_OF_RESOURCES', 3.9669492280262606)]"
      ]
     },
     "execution_count": 13,
     "metadata": {},
     "output_type": "execute_result"
    }
   ],
   "source": [
    "'''\n",
    "View coeffecients\n",
    "'''\n",
    "\n",
    "# showing all coefficients with optimal alpha\n",
    "list(zip(x_train.columns, lasso_model.coef_))"
   ]
  },
  {
   "cell_type": "code",
   "execution_count": 14,
   "id": "a5b3d8f5",
   "metadata": {},
   "outputs": [],
   "source": [
    "'''\n",
    "Test model\n",
    "'''\n",
    "\n",
    "# Run a prediction using our testing data.\n",
    "y_pred_LASSO = lasso_model.predict(x_test_scaled)"
   ]
  },
  {
   "cell_type": "markdown",
   "id": "a856282c",
   "metadata": {},
   "source": [
    "#### Performance"
   ]
  },
  {
   "cell_type": "code",
   "execution_count": 15,
   "id": "705c89ed",
   "metadata": {},
   "outputs": [
    {
     "name": "stdout",
     "output_type": "stream",
     "text": [
      "Coefficient of determination: 0.9240796076950468\n",
      "Mean Absolute Error: 1.816059783150613\n",
      "Mean Squared Error: 6.512715407754935\n",
      "Root Mean Squared Error: 2.552002235060725\n"
     ]
    }
   ],
   "source": [
    "'''\n",
    "Evaluate Performance\n",
    "'''\n",
    "\n",
    "# Print the model's performance indicators.\n",
    "print(f\"Coefficient of determination: {r2_score(y_test, y_pred_LASSO)}\")\n",
    "print(f\"Mean Absolute Error: {mean_absolute_error(y_test, y_pred_LASSO)}\")  \n",
    "print(f\"Mean Squared Error: {mean_squared_error(y_test, y_pred_LASSO)}\")  \n",
    "print(f\"Root Mean Squared Error: {np.sqrt(mean_squared_error(y_test, y_pred_LASSO))}\")"
   ]
  },
  {
   "cell_type": "code",
   "execution_count": 16,
   "id": "7fae96bc",
   "metadata": {},
   "outputs": [
    {
     "data": {
      "text/html": [
       "<div>\n",
       "<style scoped>\n",
       "    .dataframe tbody tr th:only-of-type {\n",
       "        vertical-align: middle;\n",
       "    }\n",
       "\n",
       "    .dataframe tbody tr th {\n",
       "        vertical-align: top;\n",
       "    }\n",
       "\n",
       "    .dataframe thead th {\n",
       "        text-align: right;\n",
       "    }\n",
       "</style>\n",
       "<table border=\"1\" class=\"dataframe\">\n",
       "  <thead>\n",
       "    <tr style=\"text-align: right;\">\n",
       "      <th></th>\n",
       "      <th>Actual</th>\n",
       "      <th>Predicted</th>\n",
       "    </tr>\n",
       "  </thead>\n",
       "  <tbody>\n",
       "    <tr>\n",
       "      <th>783</th>\n",
       "      <td>70.2</td>\n",
       "      <td>68.455940</td>\n",
       "    </tr>\n",
       "    <tr>\n",
       "      <th>1615</th>\n",
       "      <td>69.6</td>\n",
       "      <td>68.862125</td>\n",
       "    </tr>\n",
       "    <tr>\n",
       "      <th>410</th>\n",
       "      <td>53.3</td>\n",
       "      <td>55.087929</td>\n",
       "    </tr>\n",
       "    <tr>\n",
       "      <th>1852</th>\n",
       "      <td>79.1</td>\n",
       "      <td>79.374050</td>\n",
       "    </tr>\n",
       "    <tr>\n",
       "      <th>523</th>\n",
       "      <td>45.7</td>\n",
       "      <td>44.632764</td>\n",
       "    </tr>\n",
       "    <tr>\n",
       "      <th>881</th>\n",
       "      <td>64.2</td>\n",
       "      <td>60.448725</td>\n",
       "    </tr>\n",
       "    <tr>\n",
       "      <th>883</th>\n",
       "      <td>63.3</td>\n",
       "      <td>59.496388</td>\n",
       "    </tr>\n",
       "    <tr>\n",
       "      <th>1444</th>\n",
       "      <td>73.6</td>\n",
       "      <td>74.190169</td>\n",
       "    </tr>\n",
       "    <tr>\n",
       "      <th>511</th>\n",
       "      <td>79.1</td>\n",
       "      <td>78.431741</td>\n",
       "    </tr>\n",
       "    <tr>\n",
       "      <th>1554</th>\n",
       "      <td>64.7</td>\n",
       "      <td>62.300865</td>\n",
       "    </tr>\n",
       "  </tbody>\n",
       "</table>\n",
       "</div>"
      ],
      "text/plain": [
       "      Actual  Predicted\n",
       "783     70.2  68.455940\n",
       "1615    69.6  68.862125\n",
       "410     53.3  55.087929\n",
       "1852    79.1  79.374050\n",
       "523     45.7  44.632764\n",
       "881     64.2  60.448725\n",
       "883     63.3  59.496388\n",
       "1444    73.6  74.190169\n",
       "511     79.1  78.431741\n",
       "1554    64.7  62.300865"
      ]
     },
     "execution_count": 16,
     "metadata": {},
     "output_type": "execute_result"
    }
   ],
   "source": [
    "'''\n",
    "Prediction comparison\n",
    "'''\n",
    "\n",
    "# Print actual vs predicted values. \n",
    "pd.DataFrame({\"Actual\": y_test, \"Predicted\": y_pred_LASSO}).head(10)"
   ]
  },
  {
   "cell_type": "code",
   "execution_count": 17,
   "id": "b2cced23",
   "metadata": {},
   "outputs": [
    {
     "data": {
      "text/plain": [
       "[Text(0.5, 1.0, 'Actual vs. Predicted Life Expectancy'),\n",
       " Text(0.5, 0, 'Actual Value'),\n",
       " Text(0, 0.5, 'Predicted Value')]"
      ]
     },
     "execution_count": 17,
     "metadata": {},
     "output_type": "execute_result"
    },
    {
     "data": {
      "image/png": "[encoded data removed]",
      "text/plain": [
       "<Figure size 432x288 with 1 Axes>"
      ]
     },
     "metadata": {
      "needs_background": "light"
     },
     "output_type": "display_data"
    }
   ],
   "source": [
    "'''\n",
    "Plot prediction comparison\n",
    "'''\n",
    "\n",
    "# Plot actual vs predicted values.\n",
    "plot = sns.scatterplot(x=y_test, y=y_pred_LASSO)\n",
    "plot.set(title=\"Actual vs. Predicted Life Expectancy\", xlabel=\"Actual Value\", ylabel=\"Predicted Value\")"
   ]
  },
  {
   "cell_type": "markdown",
   "id": "f139d0e3",
   "metadata": {},
   "source": [
    "#### Prediction"
   ]
  },
  {
   "cell_type": "code",
   "execution_count": 18,
   "id": "151eb0de",
   "metadata": {},
   "outputs": [
    {
     "name": "stdout",
     "output_type": "stream",
     "text": [
      "Given provided features, the predicted life expectancy is: 56.55860127593329\n"
     ]
    }
   ],
   "source": [
    "'''\n",
    "Test model with new data\n",
    "'''\n",
    "\n",
    "# Provide a set of previously unseen features.\n",
    "# STATUS, ALCOHOL, ADULT_MORTALITY, BMI, INFANT_DEATHS, MEASLES, POLIO, DIPHTHERIA, THINNESS_5-9_YEARS, THINNESS_10-19_YEARS, SCHOOLING, INCOME_COMPOSITION_OF_RESOURCES\n",
    "new_features = [[0, 5, 300, 19, 82, 1495, 68, 40, 18, 17, 14, 0.5]]\n",
    "\n",
    "# Scale these features using standardization \n",
    "new_features_scaled = std_scaler.transform(new_features)\n",
    "\n",
    "# Predict the life expectancy given the new features\n",
    "new_pred = lasso_model.predict(new_features_scaled)\n",
    "print(f\"Given provided features, the predicted life expectancy is: {new_pred[0]}\")"
   ]
  },
  {
   "cell_type": "code",
   "execution_count": 19,
   "id": "91d642c9",
   "metadata": {},
   "outputs": [],
   "source": [
    "'''\n",
    "Determine LARS path\n",
    "'''\n",
    "\n",
    "# Regularization path computation using the LARS\n",
    "alphas, _, coefs = lars_path(x_train_scaled, y_train.values, method='lasso')"
   ]
  },
  {
   "cell_type": "code",
   "execution_count": 20,
   "id": "04b8f48b",
   "metadata": {},
   "outputs": [
    {
     "data": {
      "image/png": "[encoded data removed]",
      "text/plain": [
       "<Figure size 720x720 with 1 Axes>"
      ]
     },
     "metadata": {
      "needs_background": "light"
     },
     "output_type": "display_data"
    }
   ],
   "source": [
    "'''\n",
    "Plot LARS path\n",
    "'''\n",
    "\n",
    "# plotting the LARS path\n",
    "xx = np.sum(np.abs(coefs.T), axis=1)\n",
    "xx /= xx[-1]\n",
    "\n",
    "plt.figure(figsize=(10,10))\n",
    "plt.plot(xx, coefs.T)\n",
    "ymin, ymax = plt.ylim()\n",
    "plt.vlines(xx, ymin, ymax, linestyle='dashed')\n",
    "plt.xlabel('|coef| / max|coef|')\n",
    "plt.ylabel('Coefficients')\n",
    "plt.title('LASSO Path')\n",
    "plt.axis('tight')\n",
    "plt.legend(x_train.columns)\n",
    "plt.show()"
   ]
  },
  {
   "cell_type": "markdown",
   "id": "27a97ce5",
   "metadata": {},
   "source": [
    "### Artificial Neural Network"
   ]
  },
  {
   "cell_type": "code",
   "execution_count": 21,
   "id": "fc37eb6a",
   "metadata": {},
   "outputs": [],
   "source": [
    "'''\n",
    "Split data into testing and training data, build and test model\n",
    "'''\n",
    "\n",
    "# split dataset into train and test data\n",
    "x_train, x_test, y_train, y_test = train_test_split(x, y, test_size=0.2, random_state=42)\n",
    "\n",
    "# standardise the features individually before applying ML\n",
    "sc=StandardScaler()\n",
    "\n",
    "# fit standardised features\n",
    "scaler = sc.fit(x_train)\n",
    "\n",
    "# transform train and test data\n",
    "x_train_scaled = scaler.transform(x_train)\n",
    "x_test_scaled = scaler.transform(x_test)\n",
    "\n",
    "#mlp = MLPRegressor(random_state=1, max_iter=10000).fit(x_train, y_train)\n",
    "mlp = MLPRegressor(hidden_layer_sizes=(150),\n",
    "                   max_iter = 10000, \n",
    "                   activation = 'relu',\n",
    "                   solver = 'adam').fit(x_train_scaled, y_train)\n",
    "\n",
    "# get prediction from test data \n",
    "predict_test = mlp.predict(x_test_scaled)"
   ]
  },
  {
   "cell_type": "code",
   "execution_count": 22,
   "id": "441fe120",
   "metadata": {},
   "outputs": [
    {
     "name": "stdout",
     "output_type": "stream",
     "text": [
      "Coefficient of determination: 0.951706689841575\n",
      "Mean Absolute Error: 1.3793572703045334\n",
      "Mean Squared Error: 4.142768176129958\n",
      "Root Mean Squared Error: 2.0353791234386676\n"
     ]
    }
   ],
   "source": [
    "'''\n",
    "Evaluate performance\n",
    "'''\n",
    "\n",
    "# print coefficients and errors\n",
    "print(f\"Coefficient of determination: {r2_score(y_test, predict_test)}\")\n",
    "print('Mean Absolute Error:', mean_absolute_error(y_test, predict_test))  \n",
    "print('Mean Squared Error:', mean_squared_error(y_test, predict_test))  \n",
    "print('Root Mean Squared Error:', np.sqrt(mean_squared_error(y_test, predict_test)))"
   ]
  },
  {
   "cell_type": "code",
   "execution_count": 23,
   "id": "0096c45b",
   "metadata": {},
   "outputs": [
    {
     "data": {
      "text/plain": [
       "[Text(0.5, 1.0, 'Actual vs. Predicted Life Expectancy'),\n",
       " Text(0.5, 0, 'Actual Value'),\n",
       " Text(0, 0.5, 'Predicted Value')]"
      ]
     },
     "execution_count": 23,
     "metadata": {},
     "output_type": "execute_result"
    },
    {
     "data": {
      "image/png": "[encoded data removed]",
      "text/plain": [
       "<Figure size 432x288 with 1 Axes>"
      ]
     },
     "metadata": {
      "needs_background": "light"
     },
     "output_type": "display_data"
    }
   ],
   "source": [
    "'''\n",
    "Plot prediction comparison\n",
    "'''\n",
    "\n",
    "# Plot actual vs predicted values.\n",
    "plot = sns.scatterplot(x=y_test, y=predict_test)\n",
    "plot.set(title=\"Actual vs. Predicted Life Expectancy\", xlabel=\"Actual Value\", ylabel=\"Predicted Value\")"
   ]
  },
  {
   "cell_type": "code",
   "execution_count": 24,
   "id": "eaea4171",
   "metadata": {},
   "outputs": [
    {
     "data": {
      "text/html": [
       "<div>\n",
       "<style scoped>\n",
       "    .dataframe tbody tr th:only-of-type {\n",
       "        vertical-align: middle;\n",
       "    }\n",
       "\n",
       "    .dataframe tbody tr th {\n",
       "        vertical-align: top;\n",
       "    }\n",
       "\n",
       "    .dataframe thead th {\n",
       "        text-align: right;\n",
       "    }\n",
       "</style>\n",
       "<table border=\"1\" class=\"dataframe\">\n",
       "  <thead>\n",
       "    <tr style=\"text-align: right;\">\n",
       "      <th></th>\n",
       "      <th>Actual</th>\n",
       "      <th>Predicted</th>\n",
       "    </tr>\n",
       "  </thead>\n",
       "  <tbody>\n",
       "    <tr>\n",
       "      <th>783</th>\n",
       "      <td>70.2</td>\n",
       "      <td>68.608839</td>\n",
       "    </tr>\n",
       "    <tr>\n",
       "      <th>1615</th>\n",
       "      <td>69.6</td>\n",
       "      <td>68.791612</td>\n",
       "    </tr>\n",
       "    <tr>\n",
       "      <th>410</th>\n",
       "      <td>53.3</td>\n",
       "      <td>54.768536</td>\n",
       "    </tr>\n",
       "    <tr>\n",
       "      <th>1852</th>\n",
       "      <td>79.1</td>\n",
       "      <td>79.510794</td>\n",
       "    </tr>\n",
       "    <tr>\n",
       "      <th>523</th>\n",
       "      <td>45.7</td>\n",
       "      <td>44.771927</td>\n",
       "    </tr>\n",
       "    <tr>\n",
       "      <th>881</th>\n",
       "      <td>64.2</td>\n",
       "      <td>60.560052</td>\n",
       "    </tr>\n",
       "    <tr>\n",
       "      <th>883</th>\n",
       "      <td>63.3</td>\n",
       "      <td>59.547605</td>\n",
       "    </tr>\n",
       "    <tr>\n",
       "      <th>1444</th>\n",
       "      <td>73.6</td>\n",
       "      <td>74.201069</td>\n",
       "    </tr>\n",
       "    <tr>\n",
       "      <th>511</th>\n",
       "      <td>79.1</td>\n",
       "      <td>78.469725</td>\n",
       "    </tr>\n",
       "    <tr>\n",
       "      <th>1554</th>\n",
       "      <td>64.7</td>\n",
       "      <td>62.346559</td>\n",
       "    </tr>\n",
       "  </tbody>\n",
       "</table>\n",
       "</div>"
      ],
      "text/plain": [
       "      Actual  Predicted\n",
       "783     70.2  68.608839\n",
       "1615    69.6  68.791612\n",
       "410     53.3  54.768536\n",
       "1852    79.1  79.510794\n",
       "523     45.7  44.771927\n",
       "881     64.2  60.560052\n",
       "883     63.3  59.547605\n",
       "1444    73.6  74.201069\n",
       "511     79.1  78.469725\n",
       "1554    64.7  62.346559"
      ]
     },
     "execution_count": 24,
     "metadata": {},
     "output_type": "execute_result"
    }
   ],
   "source": [
    "'''\n",
    "Prediction comparison\n",
    "'''\n",
    "\n",
    "# compare actual data with predicted\n",
    "df_temp = pd.DataFrame({'Actual': y_test, 'Predicted': y_pred})\n",
    "df_temp.head(10)"
   ]
  },
  {
   "cell_type": "code",
   "execution_count": 25,
   "id": "ebcae596",
   "metadata": {},
   "outputs": [
    {
     "data": {
      "image/png": "[encoded data removed]",
      "text/plain": [
       "<Figure size 720x432 with 1 Axes>"
      ]
     },
     "metadata": {
      "needs_background": "light"
     },
     "output_type": "display_data"
    }
   ],
   "source": [
    "'''\n",
    "Alternate prediction comparison visualisation\n",
    "'''\n",
    "\n",
    "# visualise actual vs predicted\n",
    "df_temp = df_temp.head(30)\n",
    "df_temp.plot(kind='bar',figsize=(10,6))\n",
    "plt.grid(which='major', linestyle='-', linewidth='0.5', color='green')\n",
    "plt.grid(which='minor', linestyle=':', linewidth='0.5', color='black')\n",
    "plt.show()"
   ]
  },
  {
   "cell_type": "code",
   "execution_count": 26,
   "id": "6f19b9ab",
   "metadata": {},
   "outputs": [
    {
     "data": {
      "image/png": "[encoded data removed]",
      "text/plain": [
       "<Figure size 432x288 with 1 Axes>"
      ]
     },
     "metadata": {
      "needs_background": "light"
     },
     "output_type": "display_data"
    }
   ],
   "source": [
    "'''\n",
    "Alternate prediction comparison visualisation\n",
    "'''\n",
    "\n",
    "# plot the loss curve of the ML algorithm\n",
    "plt.plot(mlp.loss_curve_)\n",
    "plt.title(\"Loss Curve\", fontsize=14)\n",
    "plt.xlabel('Iterations')\n",
    "plt.ylabel('Cost')\n",
    "plt.show()"
   ]
  },
  {
   "cell_type": "markdown",
   "id": "140e6518",
   "metadata": {},
   "source": [
    "## Predicting Life Expectancy "
   ]
  },
  {
   "cell_type": "code",
   "execution_count": 32,
   "id": "3dc0146f",
   "metadata": {},
   "outputs": [
    {
     "name": "stdout",
     "output_type": "stream",
     "text": [
      "      STATUS  LIFE_EXPECTANCY  ALCOHOL  ADULT_MORTALITY  MEASLES  POLIO  \\\n",
      "2907       0             44.3     4.36              723       31   67.0   \n",
      "\n",
      "      DIPHTHERIA   BMI  INFANT_DEATHS  THINNESS_5-9_YEARS  \\\n",
      "2907        65.0  27.1             27                 9.4   \n",
      "\n",
      "      THINNESS_10-19_YEARS  SCHOOLING  INCOME_COMPOSITION_OF_RESOURCES  \n",
      "2907                   9.4        9.2                            0.407  \n"
     ]
    }
   ],
   "source": [
    "'''\n",
    "Print an entry to use values for prediction\n",
    "'''\n",
    "index1 = 1078\n",
    "index2 = 2907\n",
    "index3 = 70\n",
    "\n",
    "print(reg_life_df.loc[[index2]])"
   ]
  },
  {
   "cell_type": "code",
   "execution_count": 28,
   "id": "779cacf0",
   "metadata": {},
   "outputs": [],
   "source": [
    "'''\n",
    "initialize prediction data\n",
    "'''\n",
    "\n",
    "# here we're getting a life expectancy prediction for the given values ## Life Exp\n",
    "test1 = [[8.4, 8.4]] # 57.3\n",
    "test2 = [[9.4, 9.4]] # 44.3\n",
    "test3 = [[3.3, 3.4]] # 75.4\n",
    "\n",
    "# given only thinness at a young age, we can predict life expectancy\n",
    "test4 = [[2.3, 2.4]] # this should be over 80\n",
    "\n",
    "# actual prediction\n",
    "test5 = [[0, 5, 700, 19, 82, 1495, 68, 40, 18, 17, 14, 0.5]]  # ?"
   ]
  },
  {
   "cell_type": "code",
   "execution_count": 29,
   "id": "e83bd63d",
   "metadata": {},
   "outputs": [],
   "source": [
    "all_features = reg_life_df[[\"STATUS\", \"ALCOHOL\", \"ADULT_MORTALITY\", \"BMI\", \"INFANT_DEATHS\", \"MEASLES\", \"POLIO\", \"DIPHTHERIA\", \"THINNESS_5-9_YEARS\",\"THINNESS_10-19_YEARS\", \"SCHOOLING\", \"INCOME_COMPOSITION_OF_RESOURCES\", \"LIFE_EXPECTANCY\"]]\n",
    "just_two_features = reg_life_df[[\"THINNESS_5-9_YEARS\",\"THINNESS_10-19_YEARS\", \"LIFE_EXPECTANCY\"]]"
   ]
  },
  {
   "cell_type": "code",
   "execution_count": 37,
   "id": "15ed100a",
   "metadata": {},
   "outputs": [
    {
     "name": "stdout",
     "output_type": "stream",
     "text": [
      "Predicted Life Expectancy:  57.86\n",
      "Actual Life Expectancy:  44.3\n"
     ]
    }
   ],
   "source": [
    "# number of features\n",
    "x = just_two_features\n",
    "\n",
    "# convert to numpy array\n",
    "x_array = x.to_numpy()\n",
    "\n",
    "# test array to use\n",
    "test_array = test2\n",
    "\n",
    "# index to test against\n",
    "index = index2\n",
    "\n",
    "# initialsie the Multi-Layer-Perceptron Regressor with 3 lots of hidden layers\n",
    "mlp2 = MLPRegressor(hidden_layer_sizes=(50, 85, 15),\n",
    "                    # set max iterations\n",
    "                    max_iter = 1000, \n",
    "                    # set the learning rate\n",
    "                    learning_rate_init=0.001,\n",
    "                    # set the random state\n",
    "                    random_state=12,\n",
    "                    # choose the activation model\n",
    "                    activation = 'relu',\n",
    "                    # choose the solver\n",
    "                    solver = 'adam'\n",
    "                    #fit the data to train\n",
    "                    ).fit(x_array[:,:-1], x_array[:,-1])\n",
    "\n",
    "# predict a result from the given values using the training data\n",
    "predict_result = mlp2.predict(test_array)\n",
    "\n",
    "# print prediction\n",
    "print(\"Predicted Life Expectancy: \", round(predict_result[0], 2))\n",
    "print(\"Actual Life Expectancy: \", reg_life_df[\"LIFE_EXPECTANCY\"].loc[index])"
   ]
  },
  {
   "cell_type": "code",
   "execution_count": 70,
   "id": "b8f345a2",
   "metadata": {},
   "outputs": [
    {
     "name": "stdout",
     "output_type": "stream",
     "text": [
      "                     LIFE_EXPECTANCY  THINNESS_5-9_YEARS  THINNESS_10-19_YEARS\n",
      "COUNTRY                                                                       \n",
      "Afghanistan                 58.19375            15.58125              16.58125\n",
      "Albania                     75.15625             1.70000               1.61875\n",
      "Algeria                     73.61875             5.97500               6.09375\n",
      "Angola                      48.68125             6.66875               6.19375\n",
      "Antigua and Barbuda         75.05625             3.37500               3.42500\n",
      "Argentina                   75.15625             0.95000               1.07500\n",
      "Armenia                     73.40000             2.11250               2.03750\n",
      "Australia                   81.30625             0.62500               0.66875\n",
      "Austria                     80.01875             1.93750               1.73125\n",
      "Azerbaijan                  69.94375             2.94375               2.90000\n"
     ]
    }
   ],
   "source": [
    "'''\n",
    "Visualise the model with only two features input.\n",
    "'''\n",
    "\n",
    "# Group the data by each countries mean values.\n",
    "country_df = life_df.groupby([\"COUNTRY\"]).mean()\n",
    "\n",
    "# Grab the 3 columns we are wanting to examine and print out the first 10 values to view the actual life expectancy and thinness.\n",
    "country_thin_df = country_df[[\"LIFE_EXPECTANCY\", \"THINNESS_5-9_YEARS\", \"THINNESS_10-19_YEARS\"]]\n",
    "print(country_thin_df[:10])\n",
    "\n",
    "# Input the mean thinness values of each country to predict life expectancy based on these.\n",
    "thin_country_1 = [[15.6, 16.6]]\n",
    "thin_country_2 = [[1.7, 1.6]]\n",
    "thin_country_3 = [[6.0, 6.1]]\n",
    "thin_country_4 = [[6.7, 6.2]]\n",
    "thin_country_5 = [[3.4, 3.4]]\n",
    "thin_country_6 = [[1.0, 1.1]]\n",
    "thin_country_7 = [[2.1, 2.0]]\n",
    "thin_country_8 = [[0.6, 0.7]]\n",
    "thin_country_9 = [[1.9, 1.7]]\n",
    "thin_country_10 = [[2.9, 3.0]]"
   ]
  },
  {
   "cell_type": "code",
   "execution_count": 61,
   "id": "e3ae5d21",
   "metadata": {},
   "outputs": [],
   "source": [
    "# Run the model on each of the inputted thinness values to predict life expectancy.\n",
    "predict_result1 = mlp2.predict(thin_country_1)\n",
    "predict_result2 = mlp2.predict(thin_country_2)\n",
    "predict_result3 = mlp2.predict(thin_country_3)\n",
    "predict_result4 = mlp2.predict(thin_country_4)\n",
    "predict_result5 = mlp2.predict(thin_country_5)\n",
    "predict_result6 = mlp2.predict(thin_country_6)\n",
    "predict_result7 = mlp2.predict(thin_country_7)\n",
    "predict_result8 = mlp2.predict(thin_country_8)\n",
    "predict_result9 = mlp2.predict(thin_country_9)\n",
    "predict_result10 = mlp2.predict(thin_country_10)\n",
    "\n",
    "# Create array of the predicted values for graphing\n",
    "thinness_array = [round(predict_result1[0], 2), round(predict_result2[0], 2), round(predict_result3[0], 2),\n",
    "    round(predict_result4[0], 2), round(predict_result5[0], 2), round(predict_result6[0], 2), round(predict_result7[0], 2),\n",
    "    round(predict_result8[0], 2), round(predict_result9[0], 2), round(predict_result10[0], 2)]"
   ]
  },
  {
   "cell_type": "code",
   "execution_count": 69,
   "id": "29d0a202",
   "metadata": {},
   "outputs": [
    {
     "data": {
      "image/png": "[encoded data removed]",
      "text/plain": [
       "<Figure size 720x432 with 1 Axes>"
      ]
     },
     "metadata": {
      "needs_background": "light"
     },
     "output_type": "display_data"
    }
   ],
   "source": [
    "# Compare actual data with predicted\n",
    "df_temp = pd.DataFrame({'Actual': country_thin_df[\"LIFE_EXPECTANCY\"][:10], 'Predicted': thinness_array})\n",
    "\n",
    "# Visualise actual vs predicted\n",
    "df_temp = df_temp.head(30)\n",
    "df_temp.plot(kind='bar',figsize=(10,6))\n",
    "plt.grid(which='major', linestyle='-', linewidth='0.5', color='green')\n",
    "plt.grid(which='minor', linestyle=':', linewidth='0.5', color='black')\n",
    "plt.title(\"Predicted Life Expectancy based on Thinness input vs actual Life Expectancy\")\n",
    "plt.xlabel(\"Country\")\n",
    "plt.ylabel(\"Life Expectancy\")\n",
    "plt.legend(loc='upper left')\n",
    "plt.show()\n",
    "    "
   ]
  },
  {
   "cell_type": "code",
   "execution_count": null,
   "id": "2de5b243",
   "metadata": {},
   "outputs": [],
   "source": []
  }
 ],
 "metadata": {
  "kernelspec": {
   "display_name": "Python 3 (ipykernel)",
   "language": "python",
   "name": "python3"
  },
  "language_info": {
   "codemirror_mode": {
    "name": "ipython",
    "version": 3
   },
   "file_extension": ".py",
   "mimetype": "text/x-python",
   "name": "python",
   "nbconvert_exporter": "python",
   "pygments_lexer": "ipython3",
   "version": "3.10.4"
  }
 },
 "nbformat": 4,
 "nbformat_minor": 5
}
