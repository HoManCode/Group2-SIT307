{
 "cells": [
  {
   "cell_type": "markdown",
   "id": "7e4f2275",
   "metadata": {},
   "source": [
    "# SIT307 - Data Analysis Project (Assignment 2)\n",
    "\n",
    "Our chosen dataset is [Life Expectancy (WHO)](https://www.kaggle.com/datasets/kumarajarshi/life-expectancy-who).\n",
    "\n",
    "Prepared by\n",
    "\n",
    "| Student           | Student ID |\n",
    "|-------------------|------------|\n",
    "| HOOMAN SHYKHIPOUR | 220060109  |\n",
    "| SARAH GOSLING     | 220094149  |\n",
    "| DEVIN JAYASINGHE  | 220228075  |\n",
    "| RYAN WAITES       | 215127684  |\n",
    "| ANTHONY GEORGE    | 220180567  |\n",
    "| MATT KINNIA       | 219311697  |"
   ]
  },
  {
   "cell_type": "code",
   "execution_count": 7,
   "id": "e6103afd",
   "metadata": {
    "scrolled": false
   },
   "outputs": [],
   "source": [
    "import numpy as np\n",
    "import pandas as pd\n",
    "import seaborn as sns\n",
    "from statistics import mean\n",
    "import matplotlib.pyplot as plt\n",
    "import matplotlib.ticker as mtick\n",
    "import missingno as msno"
   ]
  },
  {
   "cell_type": "code",
   "execution_count": 8,
   "id": "a1fd4700",
   "metadata": {
    "scrolled": false
   },
   "outputs": [],
   "source": [
    "life_df = pd.read_csv('Cleaned_Life_Expectancy_Data.csv', delimiter=',')"
   ]
  },
  {
   "cell_type": "markdown",
   "id": "935f712e",
   "metadata": {},
   "source": [
    "# Section 1: Introduction"
   ]
  },
  {
   "cell_type": "code",
   "execution_count": null,
   "id": "cd46d5b8",
   "metadata": {},
   "outputs": [],
   "source": []
  },
  {
   "cell_type": "code",
   "execution_count": null,
   "id": "6c16e4c4",
   "metadata": {},
   "outputs": [],
   "source": []
  },
  {
   "cell_type": "code",
   "execution_count": null,
   "id": "c9dcec2d",
   "metadata": {},
   "outputs": [],
   "source": []
  },
  {
   "cell_type": "markdown",
   "id": "47eae15c",
   "metadata": {},
   "source": [
    "# Section 2: Machine Learning"
   ]
  },
  {
   "cell_type": "markdown",
   "id": "89da4c5f",
   "metadata": {},
   "source": [
    "## Section 2.1: Classification"
   ]
  },
  {
   "cell_type": "markdown",
   "id": "087f83a4",
   "metadata": {},
   "source": [
    "The aim of this to find a classifiaction model which can predict if a given data is from developed or developing country (status column). First,'STATUS' column is set as the target and features are 'LIFE_EXPECTANCY','ALCOHOL','ADULT_MORTALITY','BMI','INFANT_DEATHS','SCHOOLING'"
   ]
  },
  {
   "cell_type": "code",
   "execution_count": 16,
   "id": "f6313eb1",
   "metadata": {},
   "outputs": [],
   "source": [
    "from sklearn.model_selection import cross_val_score\n",
    "from sklearn.model_selection import train_test_split\n",
    "from sklearn.model_selection import ShuffleSplit\n",
    "from sklearn.tree import DecisionTreeClassifier"
   ]
  },
  {
   "cell_type": "markdown",
   "id": "c1c790c6",
   "metadata": {},
   "source": [
    "### Decision Tree"
   ]
  },
  {
   "cell_type": "code",
   "execution_count": 17,
   "id": "460b1af4",
   "metadata": {},
   "outputs": [],
   "source": [
    "# removing any N/A values\n",
    "cols = ['STATUS','LIFE_EXPECTANCY', 'ALCOHOL', 'ADULT_MORTALITY','BMI', 'INFANT_DEATHS', 'SCHOOLING']\n",
    "ML_life_df = life_df[cols]\n",
    "ML_life_df = ML_life_df.dropna()"
   ]
  },
  {
   "cell_type": "code",
   "execution_count": 18,
   "id": "ca26acd8",
   "metadata": {},
   "outputs": [],
   "source": [
    "# define X and y\n",
    "feature_cols = ['LIFE_EXPECTANCY', 'ALCOHOL', 'ADULT_MORTALITY','BMI', 'INFANT_DEATHS', 'SCHOOLING']\n",
    "X = ML_life_df[feature_cols]\n",
    "y = ML_life_df['STATUS']\n",
    "y=y.astype('int')"
   ]
  },
  {
   "cell_type": "code",
   "execution_count": 19,
   "id": "3272fe7b",
   "metadata": {},
   "outputs": [],
   "source": [
    "#Spliting dataset into training and testing (80% train - 20% test)\n",
    "Xtrain, Xtest, ytrain, ytest = train_test_split(X, y, test_size=0.2, random_state=42)\n"
   ]
  },
  {
   "cell_type": "code",
   "execution_count": 20,
   "id": "cd80cda7",
   "metadata": {},
   "outputs": [
    {
     "name": "stdout",
     "output_type": "stream",
     "text": [
      "CPU times: user 11.6 ms, sys: 3.09 ms, total: 14.7 ms\n",
      "Wall time: 13.3 ms\n"
     ]
    },
    {
     "data": {
      "text/plain": [
       "DecisionTreeClassifier(max_depth=7, random_state=1)"
      ]
     },
     "execution_count": 20,
     "metadata": {},
     "output_type": "execute_result"
    }
   ],
   "source": [
    "# Fit our training data\n",
    "treeclf = DecisionTreeClassifier(max_depth=7, random_state=1)\n",
    "%time treeclf.fit(Xtrain, ytrain)"
   ]
  },
  {
   "cell_type": "code",
   "execution_count": 21,
   "id": "8770daf5",
   "metadata": {},
   "outputs": [
    {
     "name": "stdout",
     "output_type": "stream",
     "text": [
      "Accuracy for each fold: [0.98173516 0.95890411 0.96347032 0.99086758 0.95890411 0.96803653\n",
      " 0.96803653 0.97260274 0.95412844 0.96788991]\n",
      "Mean Accuracy: 96.84575426249424\n",
      "Standard Deviation: 1.053%\n"
     ]
    }
   ],
   "source": [
    "#calculating scores by StratifiedKFold\n",
    "scores = cross_val_score(treeclf, Xtrain, ytrain, cv=10, scoring='accuracy')\n",
    "print(\"Accuracy for each fold: {}\".format(scores))\n",
    "print(\"Mean Accuracy: {}\".format(np.mean(scores)*100))\n",
    "print(\"Standard Deviation: %.3f%%\"%(np.std(scores)*100))"
   ]
  },
  {
   "cell_type": "code",
   "execution_count": 22,
   "id": "a25a42a3",
   "metadata": {},
   "outputs": [
    {
     "name": "stdout",
     "output_type": "stream",
     "text": [
      "Accuracy for each fold: [0.97260274 0.97945205 0.96803653 0.95890411 0.956621   0.97260274\n",
      " 0.96575342 0.93835616 0.98401826 0.96575342]\n",
      "Mean Accuracy: 96.621%\n",
      "Standard Deviation: 1.224%\n"
     ]
    }
   ],
   "source": [
    "#calculating scores by ShuffleSplit\n",
    "scores = cross_val_score(treeclf, Xtrain, ytrain, cv = ShuffleSplit(n_splits=10, test_size=0.2, random_state=0), scoring='accuracy')\n",
    "print(\"Accuracy for each fold: {}\".format(scores))\n",
    "print(\"Mean Accuracy: %.3f%%\"%(np.mean(scores)*100))\n",
    "print(\"Standard Deviation: %.3f%%\"%(np.std(scores)*100))"
   ]
  },
  {
   "cell_type": "markdown",
   "id": "bea731a4",
   "metadata": {},
   "source": [
    "### Logistic Regression"
   ]
  },
  {
   "cell_type": "code",
   "execution_count": 23,
   "id": "1216b4ef",
   "metadata": {},
   "outputs": [],
   "source": [
    "from sklearn.linear_model import LogisticRegression\n",
    "from sklearn.model_selection import KFold"
   ]
  },
  {
   "cell_type": "code",
   "execution_count": 24,
   "id": "d4626609",
   "metadata": {},
   "outputs": [
    {
     "name": "stdout",
     "output_type": "stream",
     "text": [
      "CPU times: user 352 ms, sys: 32.7 ms, total: 385 ms\n",
      "Wall time: 74 ms\n"
     ]
    },
    {
     "data": {
      "text/plain": [
       "LogisticRegression(max_iter=10000)"
      ]
     },
     "execution_count": 24,
     "metadata": {},
     "output_type": "execute_result"
    }
   ],
   "source": [
    "model = LogisticRegression(max_iter=10000)\n",
    "%time model.fit(X, y)"
   ]
  },
  {
   "cell_type": "code",
   "execution_count": 25,
   "id": "8e7d9b05",
   "metadata": {},
   "outputs": [],
   "source": [
    "kfold = KFold(n_splits=10, random_state=1, shuffle=True)"
   ]
  },
  {
   "cell_type": "code",
   "execution_count": 26,
   "id": "d9db1585",
   "metadata": {},
   "outputs": [],
   "source": [
    "results = cross_val_score(model, X, y, cv=kfold)"
   ]
  },
  {
   "cell_type": "code",
   "execution_count": 27,
   "id": "c9351f8c",
   "metadata": {},
   "outputs": [
    {
     "name": "stdout",
     "output_type": "stream",
     "text": [
      "Accuracy for each fold: [0.9379562  0.93430657 0.95620438 0.93065693 0.92335766 0.93430657\n",
      " 0.92673993 0.94139194 0.92673993 0.92673993]\n",
      "Mean Accuracy: 93.384%\n",
      "Standard Deviation: 0.920%\n"
     ]
    }
   ],
   "source": [
    "print(\"Accuracy for each fold: {}\".format(results))\n",
    "print(\"Mean Accuracy: %.3f%%\" % (results.mean()*100.0))\n",
    "print(\"Standard Deviation: %.3f%%\" % (results.std()*100.0))"
   ]
  },
  {
   "cell_type": "markdown",
   "id": "7e34536f",
   "metadata": {},
   "source": [
    "### Neural Network"
   ]
  },
  {
   "cell_type": "code",
   "execution_count": 28,
   "id": "0cdba660",
   "metadata": {},
   "outputs": [],
   "source": [
    "from sklearn.neural_network import MLPClassifier\n",
    "from sklearn.preprocessing import StandardScaler\n",
    "from sklearn.metrics import classification_report,confusion_matrix"
   ]
  },
  {
   "cell_type": "code",
   "execution_count": 29,
   "id": "b95cba37",
   "metadata": {},
   "outputs": [],
   "source": [
    "# Normalisation training data\n",
    "scaler = StandardScaler()\n",
    "scaler.fit(Xtrain)\n",
    "Xtrain = scaler.transform(Xtrain)\n",
    "Xtest = scaler.transform(Xtest)"
   ]
  },
  {
   "cell_type": "markdown",
   "id": "573dd4c0",
   "metadata": {},
   "source": [
    "create a neural network with 3 hidden layers, each with 30 neurons"
   ]
  },
  {
   "cell_type": "code",
   "execution_count": 32,
   "id": "eb4fb728",
   "metadata": {},
   "outputs": [],
   "source": [
    "mlp = MLPClassifier(hidden_layer_sizes=(200,200,200,200),momentum=0.2,max_iter=10000,alpha=0.1)"
   ]
  },
  {
   "cell_type": "code",
   "execution_count": 33,
   "id": "99e9d3e6",
   "metadata": {},
   "outputs": [
    {
     "name": "stdout",
     "output_type": "stream",
     "text": [
      "CPU times: user 33.7 s, sys: 1.15 s, total: 34.9 s\n",
      "Wall time: 4.57 s\n"
     ]
    },
    {
     "data": {
      "text/plain": [
       "MLPClassifier(alpha=0.1, hidden_layer_sizes=(200, 200, 200, 200),\n",
       "              max_iter=10000, momentum=0.2)"
      ]
     },
     "execution_count": 33,
     "metadata": {},
     "output_type": "execute_result"
    }
   ],
   "source": [
    "%time mlp.fit(Xtrain,ytrain)"
   ]
  },
  {
   "cell_type": "code",
   "execution_count": 34,
   "id": "0b5c2794",
   "metadata": {},
   "outputs": [],
   "source": [
    "predictions = mlp.predict(Xtest)"
   ]
  },
  {
   "cell_type": "code",
   "execution_count": 35,
   "id": "b36c5b85",
   "metadata": {},
   "outputs": [
    {
     "name": "stdout",
     "output_type": "stream",
     "text": [
      "[[455   5]\n",
      " [ 11  77]]\n"
     ]
    }
   ],
   "source": [
    "print(confusion_matrix(ytest,predictions))"
   ]
  },
  {
   "cell_type": "code",
   "execution_count": 36,
   "id": "8baf3f0a",
   "metadata": {},
   "outputs": [
    {
     "name": "stdout",
     "output_type": "stream",
     "text": [
      "              precision    recall  f1-score   support\n",
      "\n",
      "           0       0.98      0.99      0.98       460\n",
      "           1       0.94      0.88      0.91        88\n",
      "\n",
      "    accuracy                           0.97       548\n",
      "   macro avg       0.96      0.93      0.94       548\n",
      "weighted avg       0.97      0.97      0.97       548\n",
      "\n"
     ]
    }
   ],
   "source": [
    "print(classification_report(ytest,predictions))"
   ]
  },
  {
   "cell_type": "markdown",
   "id": "5094d972",
   "metadata": {},
   "source": [
    "## Section 2.2: Regression???(non-classification)"
   ]
  },
  {
   "cell_type": "code",
   "execution_count": null,
   "id": "8b344e43",
   "metadata": {},
   "outputs": [],
   "source": []
  }
 ],
 "metadata": {
  "kernelspec": {
   "display_name": "Python 3 (ipykernel)",
   "language": "python",
   "name": "python3"
  },
  "language_info": {
   "codemirror_mode": {
    "name": "ipython",
    "version": 3
   },
   "file_extension": ".py",
   "mimetype": "text/x-python",
   "name": "python",
   "nbconvert_exporter": "python",
   "pygments_lexer": "ipython3",
   "version": "3.9.10"
  }
 },
 "nbformat": 4,
 "nbformat_minor": 5
}
