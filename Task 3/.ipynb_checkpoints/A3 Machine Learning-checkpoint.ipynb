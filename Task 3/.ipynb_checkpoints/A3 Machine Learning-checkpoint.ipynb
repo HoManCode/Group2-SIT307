{
 "cells": [
  {
   "cell_type": "markdown",
   "id": "7e4f2275",
   "metadata": {},
   "source": [
    "# SIT307 - Machine Learning Challenge (Assignment 3)\n",
    "\n",
    "Our chosen dataset is [Life Expectancy (WHO)](https://www.kaggle.com/datasets/kumarajarshi/life-expectancy-who).\n",
    "\n",
    "Prepared by\n",
    "\n",
    "| Student           | Student ID |\n",
    "|-------------------|------------|\n",
    "| HOOMAN SHYKHIPOUR | 220060109  |\n",
    "| SARAH GOSLING     | 220094149  |\n",
    "| DEVIN JAYASINGHE  | 220228075  |\n",
    "| RYAN WAITES       | 215127684  |\n",
    "| ANTHONY GEORGE    | 220180567  |\n",
    "| MATT KINNIA       | 219311697  |"
   ]
  },
  {
   "cell_type": "code",
   "execution_count": 551,
   "id": "e6103afd",
   "metadata": {
    "scrolled": false
   },
   "outputs": [],
   "source": [
    "'''\n",
    "Import all necessary libraries\n",
    "'''\n",
    "\n",
    "import warnings\n",
    "import numpy as np\n",
    "import pandas as pd\n",
    "import seaborn as sns\n",
    "import matplotlib.pyplot as plt\n",
    "import matplotlib.ticker as mtick\n",
    "\n",
    "# Import the required packages for our regression models.\n",
    "from statistics import mean\n",
    "from sklearn.neural_network import MLPRegressor\n",
    "from sklearn.datasets import make_regression\n",
    "from sklearn.linear_model import LinearRegression, Lasso, LassoCV\n",
    "from sklearn.model_selection import train_test_split\n",
    "from sklearn.metrics import r2_score, mean_absolute_error, mean_squared_error\n",
    "from sklearn.preprocessing import StandardScaler, LabelEncoder"
   ]
  },
  {
   "cell_type": "code",
   "execution_count": 552,
   "id": "e3243bd6",
   "metadata": {},
   "outputs": [],
   "source": [
    "# Ignore inline warnings thrown by packages\n",
    "warnings.filterwarnings(\"ignore\")"
   ]
  },
  {
   "cell_type": "code",
   "execution_count": 553,
   "id": "a1fd4700",
   "metadata": {
    "scrolled": false
   },
   "outputs": [],
   "source": [
    "'''\n",
    "Get our cleaned dataset\n",
    "'''\n",
    "\n",
    "life_df = pd.read_csv('Cleaned_Life_Expectancy_Data.csv', delimiter=',')"
   ]
  },
  {
   "cell_type": "markdown",
   "id": "935f712e",
   "metadata": {},
   "source": [
    "# Section 1: Introduction"
   ]
  },
  {
   "cell_type": "code",
   "execution_count": null,
   "id": "cd46d5b8",
   "metadata": {},
   "outputs": [],
   "source": []
  },
  {
   "cell_type": "markdown",
   "id": "47eae15c",
   "metadata": {},
   "source": [
    "# Section 2: Machine Learning"
   ]
  },
  {
   "cell_type": "markdown",
   "id": "5094d972",
   "metadata": {},
   "source": [
    "## Section 2.1: Regression"
   ]
  },
  {
   "cell_type": "code",
   "execution_count": 554,
   "id": "b908285a",
   "metadata": {},
   "outputs": [],
   "source": [
    "'''\n",
    "Let's organise our features to use in our regression model\n",
    "'''\n",
    "\n",
    "# Convert country, a categorical text field, to a numerical class should we wish to use it in any models.\n",
    "label_encoder = LabelEncoder()\n",
    "life_df[\"COUNTRY_CLASS\"] = label_encoder.fit_transform(life_df[\"COUNTRY\"])\n",
    "\n",
    "# Pull the required columns from the source dataset.\n",
    "reg_life_df = life_df[[\"STATUS\", \"LIFE_EXPECTANCY\", \"ALCOHOL\", \"ADULT_MORTALITY\",\"MEASLES\",\"POLIO\",\"DIPHTHERIA\", \"BMI\", \"INFANT_DEATHS\",\"THINNESS_5-9_YEARS\",\"THINNESS_10-19_YEARS\", \"SCHOOLING\",\"INCOME_COMPOSITION_OF_RESOURCES\"]]\n",
    "reg_life_df = reg_life_df.dropna()\n",
    "\n",
    "# Define our x (independent) and y (dependent) variables for our regression models.\n",
    "x = reg_life_df[[\"STATUS\", \"ALCOHOL\", \"ADULT_MORTALITY\", \"BMI\", \"INFANT_DEATHS\",\"MEASLES\",\"POLIO\",\"DIPHTHERIA\",\"THINNESS_5-9_YEARS\",\"THINNESS_10-19_YEARS\", \"SCHOOLING\",\"INCOME_COMPOSITION_OF_RESOURCES\"]]\n",
    "y = reg_life_df[\"LIFE_EXPECTANCY\"]"
   ]
  },
  {
   "cell_type": "code",
   "execution_count": 555,
   "id": "ec94acfe",
   "metadata": {},
   "outputs": [],
   "source": [
    "# Split our dataset into training and testing samples. We are using 80% for training and 20% for testing.\n",
    "# NOTE: Using a the \"random_state\" parameter ensures we get repeatable results for each execution.\n",
    "x_train, x_test, y_train, y_test = train_test_split(x, y, test_size=0.2, random_state=42)\n",
    "\n",
    "# Scale our train and test features using standardization.\n",
    "std_scaler = StandardScaler()\n",
    "std_scaler.fit(x_train.values)\n",
    "\n",
    "x_train_scaled = std_scaler.transform(x_train.values)\n",
    "x_test_scaled  = std_scaler.transform(x_test.values)"
   ]
  },
  {
   "cell_type": "code",
   "execution_count": 556,
   "id": "007490a4",
   "metadata": {},
   "outputs": [],
   "source": [
    "# Mean Absolute Error (MAE) for testing\n",
    "def mae(y_true, y_prediction):\n",
    "    return np.mean(np.abs(y_prediction - y_true)) "
   ]
  },
  {
   "cell_type": "markdown",
   "id": "e6d1557e",
   "metadata": {},
   "source": [
    "### Linear Regression\n",
    "\n",
    "Using an ordinary least squares Linear Regression model we can predict `LIFE_EXPECTANCY` using a one or more explanatory features."
   ]
  },
  {
   "cell_type": "code",
   "execution_count": 557,
   "id": "57ee5498",
   "metadata": {},
   "outputs": [
    {
     "data": {
      "text/plain": [
       "LinearRegression()"
      ]
     },
     "execution_count": 557,
     "metadata": {},
     "output_type": "execute_result"
    }
   ],
   "source": [
    "# Create and train the ordinary least squares Linear Regression model based on our training data.\n",
    "linear_regression = LinearRegression()\n",
    "linear_regression.fit(x_train_scaled, y_train)"
   ]
  },
  {
   "cell_type": "code",
   "execution_count": 558,
   "id": "d4b6b7e2",
   "metadata": {},
   "outputs": [],
   "source": [
    "# Run a prediction using our testing data.\n",
    "y_pred = linear_regression.predict(x_test_scaled)"
   ]
  },
  {
   "cell_type": "markdown",
   "id": "04043a92",
   "metadata": {},
   "source": [
    "#### Performance"
   ]
  },
  {
   "cell_type": "code",
   "execution_count": 559,
   "id": "03a1a819",
   "metadata": {},
   "outputs": [
    {
     "name": "stdout",
     "output_type": "stream",
     "text": [
      "Coefficient of determination: 0.9238680302251875\n",
      "Mean Absolute Error: 1.8176607104482652\n",
      "Mean Squared Error: 6.530865259277718\n",
      "Root Mean Squared Error: 2.555555763288627\n"
     ]
    }
   ],
   "source": [
    "# Print the model's performance indicators.\n",
    "print(f\"Coefficient of determination: {r2_score(y_test, y_pred)}\")\n",
    "print(f\"Mean Absolute Error: {mean_absolute_error(y_test, y_pred)}\")  \n",
    "print(f\"Mean Squared Error: {mean_squared_error(y_test, y_pred)}\")  \n",
    "print(f\"Root Mean Squared Error: {np.sqrt(mean_squared_error(y_test, y_pred))}\")"
   ]
  },
  {
   "cell_type": "code",
   "execution_count": 560,
   "id": "2159fb3f",
   "metadata": {},
   "outputs": [
    {
     "data": {
      "text/html": [
       "<div>\n",
       "<style scoped>\n",
       "    .dataframe tbody tr th:only-of-type {\n",
       "        vertical-align: middle;\n",
       "    }\n",
       "\n",
       "    .dataframe tbody tr th {\n",
       "        vertical-align: top;\n",
       "    }\n",
       "\n",
       "    .dataframe thead th {\n",
       "        text-align: right;\n",
       "    }\n",
       "</style>\n",
       "<table border=\"1\" class=\"dataframe\">\n",
       "  <thead>\n",
       "    <tr style=\"text-align: right;\">\n",
       "      <th></th>\n",
       "      <th>Actual</th>\n",
       "      <th>Predicted</th>\n",
       "    </tr>\n",
       "  </thead>\n",
       "  <tbody>\n",
       "    <tr>\n",
       "      <th>783</th>\n",
       "      <td>70.2</td>\n",
       "      <td>68.608839</td>\n",
       "    </tr>\n",
       "    <tr>\n",
       "      <th>1615</th>\n",
       "      <td>69.6</td>\n",
       "      <td>68.791612</td>\n",
       "    </tr>\n",
       "    <tr>\n",
       "      <th>410</th>\n",
       "      <td>53.3</td>\n",
       "      <td>54.768536</td>\n",
       "    </tr>\n",
       "    <tr>\n",
       "      <th>1852</th>\n",
       "      <td>79.1</td>\n",
       "      <td>79.510794</td>\n",
       "    </tr>\n",
       "    <tr>\n",
       "      <th>523</th>\n",
       "      <td>45.7</td>\n",
       "      <td>44.771927</td>\n",
       "    </tr>\n",
       "  </tbody>\n",
       "</table>\n",
       "</div>"
      ],
      "text/plain": [
       "      Actual  Predicted\n",
       "783     70.2  68.608839\n",
       "1615    69.6  68.791612\n",
       "410     53.3  54.768536\n",
       "1852    79.1  79.510794\n",
       "523     45.7  44.771927"
      ]
     },
     "execution_count": 560,
     "metadata": {},
     "output_type": "execute_result"
    }
   ],
   "source": [
    "# Print actual vs predicted values. \n",
    "pd.DataFrame({\"Actual\": y_test, \"Predicted\": y_pred}).head()"
   ]
  },
  {
   "cell_type": "code",
   "execution_count": 561,
   "id": "7be283ef",
   "metadata": {},
   "outputs": [
    {
     "data": {
      "text/plain": [
       "[Text(0.5, 1.0, 'Actual vs. Predicted Life Expectancy'),\n",
       " Text(0.5, 0, 'Actual Value'),\n",
       " Text(0, 0.5, 'Predicted Value')]"
      ]
     },
     "execution_count": 561,
     "metadata": {},
     "output_type": "execute_result"
    },
    {
     "data": {
      "image/png": "[encoded data removed]",
      "text/plain": [
       "<Figure size 432x288 with 1 Axes>"
      ]
     },
     "metadata": {
      "needs_background": "light"
     },
     "output_type": "display_data"
    }
   ],
   "source": [
    "# Plot actual vs predicted values.\n",
    "plot = sns.scatterplot(x=y_test, y=y_pred)\n",
    "plot.set(title=\"Actual vs. Predicted Life Expectancy\", xlabel=\"Actual Value\", ylabel=\"Predicted Value\")"
   ]
  },
  {
   "cell_type": "markdown",
   "id": "b0227a9b",
   "metadata": {},
   "source": [
    "#### Prediction\n",
    "\n",
    "Predict life expectancy using previously unseen data."
   ]
  },
  {
   "cell_type": "code",
   "execution_count": 562,
   "id": "f75c6789",
   "metadata": {},
   "outputs": [
    {
     "name": "stdout",
     "output_type": "stream",
     "text": [
      "Given provided features, the predicted life expectancy is: 68.60883937173716\n"
     ]
    }
   ],
   "source": [
    "# Provide a set of previously unseen features.\n",
    "# STATUS, ALCOHOL, ADULT_MORTALITY, BMI, INFANT_DEATHS, MEASLES, POLIO, DIPHTHERIA, THINNESS_5-9_YEARS, THINNESS_10-19_YEARS, SCHOOLING, INCOME_COMPOSITION_OF_RESOURCES\n",
    "new_features = [[0, 5, 300, 19, 82, 1495, 68, 40, 18, 17, 14, 0.5]]\n",
    "\n",
    "# Scale these features using standardization \n",
    "new_features_scaled = std_scaler.transform(new_features)\n",
    "\n",
    "# Predict the life expectancy given the new features\n",
    "new_pred = linear_regression.predict(new_features_scaled)\n",
    "print(f\"Given provided features, the predicted life expectancy is: {y_pred[0]}\")"
   ]
  },
  {
   "cell_type": "markdown",
   "id": "6185d68f",
   "metadata": {},
   "source": [
    "### Lasso Regression "
   ]
  },
  {
   "cell_type": "code",
   "execution_count": 563,
   "id": "39e5510e",
   "metadata": {},
   "outputs": [
    {
     "data": {
      "text/plain": [
       "0.012173827277396614"
      ]
     },
     "execution_count": 563,
     "metadata": {},
     "output_type": "execute_result"
    }
   ],
   "source": [
    "##  finding best ALPHA value for L1 regularization,implementing lassoCV\n",
    "# Scale the data \n",
    "std = StandardScaler()\n",
    "std.fit(x_train.values)\n",
    "# Scale the Predictors for the train and test set\n",
    "x_train_scaled = std.transform(x_train.values)\n",
    "x_test_scaled = std.transform(x_test.values)\n",
    "# Run the cross validation, find the best alpha, refit the model on all the data with that alpha\n",
    "alphavec = 10**np.linspace(-3,3,200)   # alpha varies from 0.001 to 1000\n",
    "lasso_model = LassoCV(alphas = alphavec, cv=5)\n",
    "lasso_model.fit(x_train_scaled, y_train)\n",
    "# This is the best alpha value found\n",
    "lasso_model.alpha_ \n"
   ]
  },
  {
   "cell_type": "code",
   "execution_count": 564,
   "id": "6e59c1cd",
   "metadata": {},
   "outputs": [
    {
     "data": {
      "text/plain": [
       "[('STATUS', 0.1254014418298149),\n",
       " ('ALCOHOL', -0.01712369191563245),\n",
       " ('ADULT_MORTALITY', -4.479060598744764),\n",
       " ('BMI', 0.1818122224565193),\n",
       " ('INFANT_DEATHS', 0.15874142618205453),\n",
       " ('MEASLES', -0.2850918092368943),\n",
       " ('POLIO', -0.0),\n",
       " ('DIPHTHERIA', 1.0785488519160238),\n",
       " ('THINNESS_5-9_YEARS', -0.036196874877915786),\n",
       " ('THINNESS_10-19_YEARS', -0.11107439652977473),\n",
       " ('SCHOOLING', 0.0),\n",
       " ('INCOME_COMPOSITION_OF_RESOURCES', 3.9669492280262615)]"
      ]
     },
     "execution_count": 564,
     "metadata": {},
     "output_type": "execute_result"
    }
   ],
   "source": [
    "# showing all coefficients with optimal alpha\n",
    "list(zip(x_train.columns, lasso_model.coef_))"
   ]
  },
  {
   "cell_type": "code",
   "execution_count": 565,
   "id": "2849149a",
   "metadata": {},
   "outputs": [
    {
     "data": {
      "text/plain": [
       "1.816059783150613"
      ]
     },
     "execution_count": 565,
     "metadata": {},
     "output_type": "execute_result"
    }
   ],
   "source": [
    "# find the Mean absolute error (MAE) on test data\n",
    "mae(y_test, lasso_model.predict(x_test_scaled))"
   ]
  },
  {
   "cell_type": "code",
   "execution_count": 566,
   "id": "5838181b",
   "metadata": {},
   "outputs": [
    {
     "name": "stdout",
     "output_type": "stream",
     "text": [
      "Coefficient of determination: 0.9240796076950468\n",
      "Mean squared error: 6.512715407754935\n"
     ]
    }
   ],
   "source": [
    "print(f\"Coefficient of determination: {r2_score(y_test, lasso_model.predict(x_test_scaled))}\")\n",
    "print(f\"Mean squared error: {mean_squared_error(y_test,lasso_model.predict(x_test_scaled))}\")"
   ]
  },
  {
   "cell_type": "code",
   "execution_count": 567,
   "id": "f779aba5",
   "metadata": {},
   "outputs": [
    {
     "name": "stdout",
     "output_type": "stream",
     "text": [
      "Regularization path computation using the LARS ...\n"
     ]
    }
   ],
   "source": [
    "from sklearn.linear_model import lars_path\n",
    "print(\"Regularization path computation using the LARS ...\")\n",
    "alphas, _, coefs = lars_path(x_train_scaled, y_train.values, method='lasso')"
   ]
  },
  {
   "cell_type": "code",
   "execution_count": 568,
   "id": "d11c8e4e",
   "metadata": {},
   "outputs": [
    {
     "data": {
      "image/png": "[encoded data removed]",
      "text/plain": [
       "<Figure size 720x720 with 1 Axes>"
      ]
     },
     "metadata": {
      "needs_background": "light"
     },
     "output_type": "display_data"
    }
   ],
   "source": [
    "# plotting the LARS path\n",
    "xx = np.sum(np.abs(coefs.T), axis=1)\n",
    "xx /= xx[-1]\n",
    "\n",
    "plt.figure(figsize=(10,10))\n",
    "plt.plot(xx, coefs.T)\n",
    "ymin, ymax = plt.ylim()\n",
    "plt.vlines(xx, ymin, ymax, linestyle='dashed')\n",
    "plt.xlabel('|coef| / max|coef|')\n",
    "plt.ylabel('Coefficients')\n",
    "plt.title('LASSO Path')\n",
    "plt.axis('tight')\n",
    "plt.legend(x_train.columns)\n",
    "plt.show()"
   ]
  },
  {
   "cell_type": "markdown",
   "id": "6fb41af8",
   "metadata": {},
   "source": [
    "### Artificial Neural Network"
   ]
  },
  {
   "cell_type": "code",
   "execution_count": 569,
   "id": "8bebb1e8",
   "metadata": {},
   "outputs": [
    {
     "data": {
      "text/plain": [
       "(2736, 13)"
      ]
     },
     "execution_count": 569,
     "metadata": {},
     "output_type": "execute_result"
    }
   ],
   "source": [
    "reg_life_df.shape"
   ]
  },
  {
   "cell_type": "code",
   "execution_count": 570,
   "id": "03628697",
   "metadata": {},
   "outputs": [],
   "source": [
    "# Pull the required columns from the source dataset.\n",
    "x = reg_life_df[[\"STATUS\", \"ALCOHOL\", \"ADULT_MORTALITY\", \"BMI\", \"INFANT_DEATHS\",\"MEASLES\",\"POLIO\",\"DIPHTHERIA\",\"THINNESS_5-9_YEARS\",\"THINNESS_10-19_YEARS\", \"SCHOOLING\",\"INCOME_COMPOSITION_OF_RESOURCES\"]]"
   ]
  },
  {
   "cell_type": "code",
   "execution_count": 571,
   "id": "e8bc02f4",
   "metadata": {},
   "outputs": [
    {
     "name": "stdout",
     "output_type": "stream",
     "text": [
      "2736\n"
     ]
    }
   ],
   "source": [
    "print(len(x))"
   ]
  },
  {
   "cell_type": "code",
   "execution_count": 572,
   "id": "3fa7503a",
   "metadata": {},
   "outputs": [],
   "source": [
    "# split dataset into train and test data\n",
    "x_train, x_test, y_train, y_test = train_test_split(x, y, test_size=0.2, random_state=42)\n",
    "\n",
    "# standardise the features individually before applying ML\n",
    "sc=StandardScaler()\n",
    "\n",
    "# fit standardised features\n",
    "scaler = sc.fit(x_train)\n",
    "\n",
    "# transform train and test data\n",
    "x_train_scaled = scaler.transform(x_train)\n",
    "x_test_scaled = scaler.transform(x_test)\n",
    "\n",
    "#mlp = MLPRegressor(random_state=1, max_iter=10000).fit(x_train, y_train)\n",
    "mlp = MLPRegressor(hidden_layer_sizes=(150),\n",
    "                   max_iter = 10000, \n",
    "                   activation = 'relu',\n",
    "                   solver = 'adam').fit(x_train_scaled, y_train)\n",
    "\n",
    "# get prediction from test data \n",
    "predict_test = mlp.predict(x_test_scaled)"
   ]
  },
  {
   "cell_type": "code",
   "execution_count": 573,
   "id": "be9aea56",
   "metadata": {},
   "outputs": [
    {
     "name": "stdout",
     "output_type": "stream",
     "text": [
      "Coefficient of determination: 0.9596384837166656\n",
      "Mean Absolute Error: 1.2490843373728835\n",
      "Mean Squared Error: 3.4623512998058295\n",
      "Root Mean Squared Error: 1.8607394497365368\n"
     ]
    }
   ],
   "source": [
    "# print coefficients and errors\n",
    "print(f\"Coefficient of determination: {r2_score(y_test, predict_test)}\")\n",
    "print('Mean Absolute Error:', metrics.mean_absolute_error(y_test, predict_test))  \n",
    "print('Mean Squared Error:', metrics.mean_squared_error(y_test, predict_test))  \n",
    "print('Root Mean Squared Error:', np.sqrt(metrics.mean_squared_error(y_test, predict_test)))"
   ]
  },
  {
   "cell_type": "code",
   "execution_count": 574,
   "id": "a1b71991",
   "metadata": {},
   "outputs": [
    {
     "data": {
      "text/plain": [
       "[Text(0.5, 1.0, 'Actual vs. Predicted Life Expectancy'),\n",
       " Text(0.5, 0, 'Actual Value'),\n",
       " Text(0, 0.5, 'Predicted Value')]"
      ]
     },
     "execution_count": 574,
     "metadata": {},
     "output_type": "execute_result"
    },
    {
     "data": {
      "image/png": "[encoded data removed]",
      "text/plain": [
       "<Figure size 432x288 with 1 Axes>"
      ]
     },
     "metadata": {
      "needs_background": "light"
     },
     "output_type": "display_data"
    }
   ],
   "source": [
    "# Plot actual vs predicted values.\n",
    "plot = sns.scatterplot(x=y_test, y=predict_test)\n",
    "plot.set(title=\"Actual vs. Predicted Life Expectancy\", xlabel=\"Actual Value\", ylabel=\"Predicted Value\")"
   ]
  },
  {
   "cell_type": "code",
   "execution_count": 575,
   "id": "4e9fca83",
   "metadata": {},
   "outputs": [
    {
     "data": {
      "text/html": [
       "<div>\n",
       "<style scoped>\n",
       "    .dataframe tbody tr th:only-of-type {\n",
       "        vertical-align: middle;\n",
       "    }\n",
       "\n",
       "    .dataframe tbody tr th {\n",
       "        vertical-align: top;\n",
       "    }\n",
       "\n",
       "    .dataframe thead th {\n",
       "        text-align: right;\n",
       "    }\n",
       "</style>\n",
       "<table border=\"1\" class=\"dataframe\">\n",
       "  <thead>\n",
       "    <tr style=\"text-align: right;\">\n",
       "      <th></th>\n",
       "      <th>Actual</th>\n",
       "      <th>Predicted</th>\n",
       "    </tr>\n",
       "  </thead>\n",
       "  <tbody>\n",
       "    <tr>\n",
       "      <th>783</th>\n",
       "      <td>70.2</td>\n",
       "      <td>68.608839</td>\n",
       "    </tr>\n",
       "    <tr>\n",
       "      <th>1615</th>\n",
       "      <td>69.6</td>\n",
       "      <td>68.791612</td>\n",
       "    </tr>\n",
       "    <tr>\n",
       "      <th>410</th>\n",
       "      <td>53.3</td>\n",
       "      <td>54.768536</td>\n",
       "    </tr>\n",
       "    <tr>\n",
       "      <th>1852</th>\n",
       "      <td>79.1</td>\n",
       "      <td>79.510794</td>\n",
       "    </tr>\n",
       "    <tr>\n",
       "      <th>523</th>\n",
       "      <td>45.7</td>\n",
       "      <td>44.771927</td>\n",
       "    </tr>\n",
       "    <tr>\n",
       "      <th>881</th>\n",
       "      <td>64.2</td>\n",
       "      <td>60.560052</td>\n",
       "    </tr>\n",
       "    <tr>\n",
       "      <th>883</th>\n",
       "      <td>63.3</td>\n",
       "      <td>59.547605</td>\n",
       "    </tr>\n",
       "    <tr>\n",
       "      <th>1444</th>\n",
       "      <td>73.6</td>\n",
       "      <td>74.201069</td>\n",
       "    </tr>\n",
       "    <tr>\n",
       "      <th>511</th>\n",
       "      <td>79.1</td>\n",
       "      <td>78.469725</td>\n",
       "    </tr>\n",
       "    <tr>\n",
       "      <th>1554</th>\n",
       "      <td>64.7</td>\n",
       "      <td>62.346559</td>\n",
       "    </tr>\n",
       "  </tbody>\n",
       "</table>\n",
       "</div>"
      ],
      "text/plain": [
       "      Actual  Predicted\n",
       "783     70.2  68.608839\n",
       "1615    69.6  68.791612\n",
       "410     53.3  54.768536\n",
       "1852    79.1  79.510794\n",
       "523     45.7  44.771927\n",
       "881     64.2  60.560052\n",
       "883     63.3  59.547605\n",
       "1444    73.6  74.201069\n",
       "511     79.1  78.469725\n",
       "1554    64.7  62.346559"
      ]
     },
     "execution_count": 575,
     "metadata": {},
     "output_type": "execute_result"
    }
   ],
   "source": [
    "# compare actual data with predicted\n",
    "df_temp = pd.DataFrame({'Actual': y_test, 'Predicted': y_pred})\n",
    "df_temp.head(10)"
   ]
  },
  {
   "cell_type": "code",
   "execution_count": 576,
   "id": "21d99d87",
   "metadata": {},
   "outputs": [
    {
     "data": {
      "image/png": "[encoded data removed]",
      "text/plain": [
       "<Figure size 720x432 with 1 Axes>"
      ]
     },
     "metadata": {
      "needs_background": "light"
     },
     "output_type": "display_data"
    }
   ],
   "source": [
    "# visualise actual vs predicted\n",
    "df_temp = df_temp.head(30)\n",
    "df_temp.plot(kind='bar',figsize=(10,6))\n",
    "plt.grid(which='major', linestyle='-', linewidth='0.5', color='green')\n",
    "plt.grid(which='minor', linestyle=':', linewidth='0.5', color='black')\n",
    "plt.show()"
   ]
  },
  {
   "cell_type": "code",
   "execution_count": 577,
   "id": "90e0d579",
   "metadata": {},
   "outputs": [
    {
     "data": {
      "image/png": "[encoded data removed]",
      "text/plain": [
       "<Figure size 432x288 with 1 Axes>"
      ]
     },
     "metadata": {
      "needs_background": "light"
     },
     "output_type": "display_data"
    }
   ],
   "source": [
    "# plot the loss curve of the ML algorithm\n",
    "plt.plot(mlp.loss_curve_)\n",
    "plt.title(\"Loss Curve\", fontsize=14)\n",
    "plt.xlabel('Iterations')\n",
    "plt.ylabel('Cost')\n",
    "plt.show()"
   ]
  },
  {
   "cell_type": "markdown",
   "id": "87bb6f5c",
   "metadata": {},
   "source": [
    "# Predicting Life Expectancy \n",
    "### Given values for Alcohol, BMI and Adult Mortality, we can observe the ANN's ability to predict Life Expectancy"
   ]
  },
  {
   "cell_type": "code",
   "execution_count": 578,
   "id": "4fa55e73",
   "metadata": {},
   "outputs": [
    {
     "name": "stdout",
     "output_type": "stream",
     "text": [
      "     STATUS  LIFE_EXPECTANCY  ALCOHOL  ADULT_MORTALITY  MEASLES  POLIO  \\\n",
      "100       0             73.9     4.09              128        0   96.0   \n",
      "\n",
      "     DIPHTHERIA   BMI  INFANT_DEATHS  THINNESS_5-9_YEARS  \\\n",
      "100        95.0  51.9              1                 2.1   \n",
      "\n",
      "     THINNESS_10-19_YEARS  SCHOOLING  INCOME_COMPOSITION_OF_RESOURCES  \n",
      "100                   2.0       12.7                            0.729  \n"
     ]
    }
   ],
   "source": [
    "'''\n",
    "Print an entry to use values for prediction\n",
    "'''\n",
    "\n",
    "print(reg_life_df.loc[[100]])"
   ]
  },
  {
   "cell_type": "code",
   "execution_count": 579,
   "id": "ca9c8bee",
   "metadata": {},
   "outputs": [
    {
     "data": {
      "text/html": [
       "<div>\n",
       "<style scoped>\n",
       "    .dataframe tbody tr th:only-of-type {\n",
       "        vertical-align: middle;\n",
       "    }\n",
       "\n",
       "    .dataframe tbody tr th {\n",
       "        vertical-align: top;\n",
       "    }\n",
       "\n",
       "    .dataframe thead tr th {\n",
       "        text-align: left;\n",
       "    }\n",
       "</style>\n",
       "<table border=\"1\" class=\"dataframe\">\n",
       "  <thead>\n",
       "    <tr>\n",
       "      <th></th>\n",
       "      <th>INCOME_COMPOSITION_OF_RESOURCES</th>\n",
       "      <th>BMI</th>\n",
       "      <th>ADULT_MORTALITY</th>\n",
       "    </tr>\n",
       "  </thead>\n",
       "  <tbody>\n",
       "    <tr>\n",
       "      <th>0</th>\n",
       "      <td>0.729</td>\n",
       "      <td>51.9</td>\n",
       "      <td>128</td>\n",
       "    </tr>\n",
       "  </tbody>\n",
       "</table>\n",
       "</div>"
      ],
      "text/plain": [
       "  INCOME_COMPOSITION_OF_RESOURCES   BMI ADULT_MORTALITY\n",
       "0                           0.729  51.9             128"
      ]
     },
     "execution_count": 579,
     "metadata": {},
     "output_type": "execute_result"
    }
   ],
   "source": [
    "'''\n",
    "initialize prediction data\n",
    "'''\n",
    "\n",
    "# here we're getting a life expectancy prediction for the given values\n",
    "data = [[0.729, 51.9, 128]]\n",
    "  \n",
    "# Create the pandas DataFrame\n",
    "df = pd.DataFrame(data, columns = [[\"INCOME_COMPOSITION_OF_RESOURCES\", 'BMI', 'ADULT_MORTALITY']])\n",
    "  \n",
    "# print dataframe.\n",
    "df"
   ]
  },
  {
   "cell_type": "code",
   "execution_count": 580,
   "id": "a8e6caf1",
   "metadata": {},
   "outputs": [],
   "source": [
    "x = reg_life_df[[\"INCOME_COMPOSITION_OF_RESOURCES\", \"BMI\", \"ADULT_MORTALITY\", \"LIFE_EXPECTANCY\"]]\n",
    "z = df[[\"INCOME_COMPOSITION_OF_RESOURCES\", 'BMI', 'ADULT_MORTALITY']]"
   ]
  },
  {
   "cell_type": "code",
   "execution_count": 581,
   "id": "bca40125",
   "metadata": {},
   "outputs": [
    {
     "name": "stdout",
     "output_type": "stream",
     "text": [
      "Predicted Life Expectancy:  [44.73489644]\n"
     ]
    }
   ],
   "source": [
    "# fit standardised features\n",
    "scaler = sc.fit(z)\n",
    "\n",
    "# transform train and test data\n",
    "z_scaled = scaler.transform(z)\n",
    "\n",
    "x_array = x.to_numpy()\n",
    "\n",
    "mlp2 = MLPRegressor(hidden_layer_sizes=(50),\n",
    "                   max_iter = 10000, \n",
    "                   activation = 'relu',\n",
    "                   solver = 'adam').fit(x_array[:,:-1], x_array[:,-1])\n",
    "\n",
    "predict_result = mlp2.predict(z_scaled)\n",
    "\n",
    "# print prediction\n",
    "print(\"Predicted Life Expectancy: \", predict_result)"
   ]
  },
  {
   "cell_type": "code",
   "execution_count": null,
   "id": "f5e9911d",
   "metadata": {},
   "outputs": [],
   "source": []
  },
  {
   "cell_type": "code",
   "execution_count": null,
   "id": "d1350dd1",
   "metadata": {},
   "outputs": [],
   "source": []
  },
  {
   "cell_type": "code",
   "execution_count": null,
   "id": "32d52a42",
   "metadata": {},
   "outputs": [],
   "source": []
  }
 ],
 "metadata": {
  "kernelspec": {
   "display_name": "Python 3 (ipykernel)",
   "language": "python",
   "name": "python3"
  },
  "language_info": {
   "codemirror_mode": {
    "name": "ipython",
    "version": 3
   },
   "file_extension": ".py",
   "mimetype": "text/x-python",
   "name": "python",
   "nbconvert_exporter": "python",
   "pygments_lexer": "ipython3",
   "version": "3.9.10"
  }
 },
 "nbformat": 4,
 "nbformat_minor": 5
}
